{
 "cells": [
  {
   "cell_type": "markdown",
   "metadata": {},
   "source": [
    "### Note\n",
    "* Instructions have been included for each segment. You do not have to follow them exactly, but they are included to help you think through the steps."
   ]
  },
  {
   "cell_type": "code",
   "execution_count": 165,
   "metadata": {},
   "outputs": [
    {
     "data": {
      "text/html": [
       "<div>\n",
       "<style scoped>\n",
       "    .dataframe tbody tr th:only-of-type {\n",
       "        vertical-align: middle;\n",
       "    }\n",
       "\n",
       "    .dataframe tbody tr th {\n",
       "        vertical-align: top;\n",
       "    }\n",
       "\n",
       "    .dataframe thead th {\n",
       "        text-align: right;\n",
       "    }\n",
       "</style>\n",
       "<table border=\"1\" class=\"dataframe\">\n",
       "  <thead>\n",
       "    <tr style=\"text-align: right;\">\n",
       "      <th></th>\n",
       "      <th>Student ID</th>\n",
       "      <th>student_name</th>\n",
       "      <th>gender</th>\n",
       "      <th>year</th>\n",
       "      <th>school_name</th>\n",
       "      <th>reading_score</th>\n",
       "      <th>maths_score</th>\n",
       "      <th>School ID</th>\n",
       "      <th>type</th>\n",
       "      <th>size</th>\n",
       "      <th>budget</th>\n",
       "    </tr>\n",
       "  </thead>\n",
       "  <tbody>\n",
       "    <tr>\n",
       "      <th>0</th>\n",
       "      <td>0</td>\n",
       "      <td>Paul Bradley</td>\n",
       "      <td>M</td>\n",
       "      <td>9</td>\n",
       "      <td>Huang High School</td>\n",
       "      <td>96</td>\n",
       "      <td>94</td>\n",
       "      <td>0</td>\n",
       "      <td>Government</td>\n",
       "      <td>2917</td>\n",
       "      <td>1910635</td>\n",
       "    </tr>\n",
       "    <tr>\n",
       "      <th>1</th>\n",
       "      <td>1</td>\n",
       "      <td>Victor Smith</td>\n",
       "      <td>M</td>\n",
       "      <td>12</td>\n",
       "      <td>Huang High School</td>\n",
       "      <td>90</td>\n",
       "      <td>43</td>\n",
       "      <td>0</td>\n",
       "      <td>Government</td>\n",
       "      <td>2917</td>\n",
       "      <td>1910635</td>\n",
       "    </tr>\n",
       "    <tr>\n",
       "      <th>2</th>\n",
       "      <td>2</td>\n",
       "      <td>Kevin Rodriguez</td>\n",
       "      <td>M</td>\n",
       "      <td>12</td>\n",
       "      <td>Huang High School</td>\n",
       "      <td>41</td>\n",
       "      <td>76</td>\n",
       "      <td>0</td>\n",
       "      <td>Government</td>\n",
       "      <td>2917</td>\n",
       "      <td>1910635</td>\n",
       "    </tr>\n",
       "    <tr>\n",
       "      <th>3</th>\n",
       "      <td>3</td>\n",
       "      <td>Richard Scott</td>\n",
       "      <td>M</td>\n",
       "      <td>12</td>\n",
       "      <td>Huang High School</td>\n",
       "      <td>89</td>\n",
       "      <td>86</td>\n",
       "      <td>0</td>\n",
       "      <td>Government</td>\n",
       "      <td>2917</td>\n",
       "      <td>1910635</td>\n",
       "    </tr>\n",
       "    <tr>\n",
       "      <th>4</th>\n",
       "      <td>4</td>\n",
       "      <td>Bonnie Ray</td>\n",
       "      <td>F</td>\n",
       "      <td>9</td>\n",
       "      <td>Huang High School</td>\n",
       "      <td>87</td>\n",
       "      <td>69</td>\n",
       "      <td>0</td>\n",
       "      <td>Government</td>\n",
       "      <td>2917</td>\n",
       "      <td>1910635</td>\n",
       "    </tr>\n",
       "  </tbody>\n",
       "</table>\n",
       "</div>"
      ],
      "text/plain": [
       "   Student ID     student_name gender  year        school_name  reading_score  \\\n",
       "0           0     Paul Bradley      M     9  Huang High School             96   \n",
       "1           1     Victor Smith      M    12  Huang High School             90   \n",
       "2           2  Kevin Rodriguez      M    12  Huang High School             41   \n",
       "3           3    Richard Scott      M    12  Huang High School             89   \n",
       "4           4       Bonnie Ray      F     9  Huang High School             87   \n",
       "\n",
       "   maths_score  School ID        type  size   budget  \n",
       "0           94          0  Government  2917  1910635  \n",
       "1           43          0  Government  2917  1910635  \n",
       "2           76          0  Government  2917  1910635  \n",
       "3           86          0  Government  2917  1910635  \n",
       "4           69          0  Government  2917  1910635  "
      ]
     },
     "execution_count": 165,
     "metadata": {},
     "output_type": "execute_result"
    }
   ],
   "source": [
    "# Dependencies and Setup\n",
    "import pandas as pd\n",
    "import numpy as np\n",
    "\n",
    "# File to Load (Remember to Change These)\n",
    "school_data_to_load = \"Resources/schools_complete.csv\"\n",
    "student_data_to_load = \"Resources/students_complete.csv\"\n",
    "\n",
    "# Read School and Student Data File and store into Pandas DataFrames\n",
    "school_data = pd.read_csv(school_data_to_load)\n",
    "student_data = pd.read_csv(student_data_to_load)\n",
    "\n",
    "# Combine the data into a single dataset.  \n",
    "school_data_complete = pd.merge(student_data, school_data, how=\"left\", on=[\"school_name\", \"school_name\"])\n",
    "school_data_complete.head()"
   ]
  },
  {
   "cell_type": "markdown",
   "metadata": {},
   "source": [
    "## Local Government Area Summary\n",
    "\n",
    "* Calculate the total number of schools\n",
    "\n",
    "* Calculate the total number of students\n",
    "\n",
    "* Calculate the total budget\n",
    "\n",
    "* Calculate the average maths score \n",
    "\n",
    "* Calculate the average reading score\n",
    "\n",
    "* Calculate the percentage of students with a passing maths score (50 or greater)\n",
    "\n",
    "* Calculate the percentage of students with a passing reading score (50 or greater)\n",
    "\n",
    "* Calculate the percentage of students who passed maths **and** reading (% Overall Passing)\n",
    "\n",
    "* Create a dataframe to hold the above results\n",
    "\n",
    "* Optional: give the displayed data cleaner formatting"
   ]
  },
  {
   "cell_type": "code",
   "execution_count": 166,
   "metadata": {},
   "outputs": [
    {
     "data": {
      "text/plain": [
       "15"
      ]
     },
     "execution_count": 166,
     "metadata": {},
     "output_type": "execute_result"
    }
   ],
   "source": [
    "# Total number of unique schools\n",
    "unique_school_name=school_data_complete['school_name'].unique()\n",
    "total_school_number=len(unique_school_name)\n",
    "total_school_number"
   ]
  },
  {
   "cell_type": "code",
   "execution_count": 167,
   "metadata": {},
   "outputs": [
    {
     "data": {
      "text/plain": [
       "39170"
      ]
     },
     "execution_count": 167,
     "metadata": {},
     "output_type": "execute_result"
    }
   ],
   "source": [
    "# Calculate the total number of students\n",
    "total_students_number=school_data_complete[\"student_name\"].count()\n",
    "total_students_number"
   ]
  },
  {
   "cell_type": "code",
   "execution_count": 168,
   "metadata": {},
   "outputs": [
    {
     "data": {
      "text/plain": [
       "24649428"
      ]
     },
     "execution_count": 168,
     "metadata": {},
     "output_type": "execute_result"
    }
   ],
   "source": [
    "# Calculate the total budget\n",
    "total_budget = school_data[\"budget\"].sum()\n",
    "total_budget"
   ]
  },
  {
   "cell_type": "code",
   "execution_count": 169,
   "metadata": {},
   "outputs": [
    {
     "data": {
      "text/plain": [
       "70.33819249425581"
      ]
     },
     "execution_count": 169,
     "metadata": {},
     "output_type": "execute_result"
    }
   ],
   "source": [
    "# Calculate the average maths score\n",
    "average_maths_score = school_data_complete[\"maths_score\"].mean()\n",
    "average_maths_score"
   ]
  },
  {
   "cell_type": "code",
   "execution_count": 170,
   "metadata": {},
   "outputs": [
    {
     "data": {
      "text/plain": [
       "69.98013786060761"
      ]
     },
     "execution_count": 170,
     "metadata": {},
     "output_type": "execute_result"
    }
   ],
   "source": [
    "# Calculate the average reading score\n",
    "average_reading_score = school_data_complete[\"reading_score\"].mean()\n",
    "average_reading_score"
   ]
  },
  {
   "cell_type": "code",
   "execution_count": 171,
   "metadata": {},
   "outputs": [
    {
     "data": {
      "text/plain": [
       "70.33819249425581"
      ]
     },
     "execution_count": 171,
     "metadata": {},
     "output_type": "execute_result"
    }
   ],
   "source": [
    "# Calculate the average maths score\n",
    "average_maths_score = school_data_complete[\"maths_score\"].mean()\n",
    "average_maths_score"
   ]
  },
  {
   "cell_type": "code",
   "execution_count": 172,
   "metadata": {},
   "outputs": [
    {
     "data": {
      "text/plain": [
       "86.07863160582077"
      ]
     },
     "execution_count": 172,
     "metadata": {},
     "output_type": "execute_result"
    }
   ],
   "source": [
    "# Calculate the percentage of students with a passing maths score (50 or greater)\n",
    "students_passing_maths = school_data_complete.loc[school_data_complete[\"maths_score\"] >= 50]\n",
    "number_students_passing_maths = students_passing_maths[\"Student ID\"].count()\n",
    "\n",
    "percent_passing_maths = (number_students_passing_maths / total_students_number) * 100\n",
    "\n",
    "percent_passing_maths"
   ]
  },
  {
   "cell_type": "code",
   "execution_count": 173,
   "metadata": {},
   "outputs": [
    {
     "data": {
      "text/plain": [
       "84.42685728874139"
      ]
     },
     "execution_count": 173,
     "metadata": {},
     "output_type": "execute_result"
    }
   ],
   "source": [
    "# Calculate the percentage of students with a passing reading score (50 or greater)\n",
    "students_passing_reading = school_data_complete.loc[school_data_complete[\"reading_score\"] >= 50]\n",
    "number_students_passing_reading = students_passing_reading[\"Student ID\"].count()\n",
    "\n",
    "percent_passing_reading = (number_students_passing_reading / total_students_number) * 100\n",
    "percent_passing_reading"
   ]
  },
  {
   "cell_type": "code",
   "execution_count": 174,
   "metadata": {},
   "outputs": [
    {
     "data": {
      "text/plain": [
       "72.80827163645647"
      ]
     },
     "execution_count": 174,
     "metadata": {},
     "output_type": "execute_result"
    }
   ],
   "source": [
    "# Calculate the percentage of students who passed maths and reading (% Overall Passing)\n",
    "Overall_passing = school_data_complete[(school_data_complete['maths_score'] >= 50) & (school_data_complete['reading_score'] >= 50)]['Student ID'].count()/total_students_number*100\n",
    "Overall_passing"
   ]
  },
  {
   "cell_type": "code",
   "execution_count": 175,
   "metadata": {},
   "outputs": [
    {
     "data": {
      "text/html": [
       "<div>\n",
       "<style scoped>\n",
       "    .dataframe tbody tr th:only-of-type {\n",
       "        vertical-align: middle;\n",
       "    }\n",
       "\n",
       "    .dataframe tbody tr th {\n",
       "        vertical-align: top;\n",
       "    }\n",
       "\n",
       "    .dataframe thead th {\n",
       "        text-align: right;\n",
       "    }\n",
       "</style>\n",
       "<table border=\"1\" class=\"dataframe\">\n",
       "  <thead>\n",
       "    <tr style=\"text-align: right;\">\n",
       "      <th></th>\n",
       "      <th>Total Schools</th>\n",
       "      <th>Total Students</th>\n",
       "      <th>Total Budget</th>\n",
       "      <th>Average Maths Score</th>\n",
       "      <th>Average Reading Score</th>\n",
       "      <th>% Passing Maths</th>\n",
       "      <th>% Passing Reading</th>\n",
       "      <th>% Overall Passing</th>\n",
       "    </tr>\n",
       "  </thead>\n",
       "  <tbody>\n",
       "    <tr>\n",
       "      <th>0</th>\n",
       "      <td>15</td>\n",
       "      <td>39,170</td>\n",
       "      <td>$24,649,428.00</td>\n",
       "      <td>70.338192</td>\n",
       "      <td>69.98014</td>\n",
       "      <td>86.078632</td>\n",
       "      <td>84.426857</td>\n",
       "      <td>72.808272</td>\n",
       "    </tr>\n",
       "  </tbody>\n",
       "</table>\n",
       "</div>"
      ],
      "text/plain": [
       "   Total Schools Total Students    Total Budget Average Maths Score  \\\n",
       "0             15         39,170  $24,649,428.00           70.338192   \n",
       "\n",
       "  Average Reading Score % Passing Maths % Passing Reading % Overall Passing  \n",
       "0              69.98014       86.078632         84.426857         72.808272  "
      ]
     },
     "execution_count": 175,
     "metadata": {},
     "output_type": "execute_result"
    }
   ],
   "source": [
    "# Create a dataframe to hold the above results\n",
    "district_summary = pd.DataFrame({\n",
    "    \"Total Schools\": total_school_number,\n",
    "    \"Total Students\": f\"{total_students_number:,}\",\n",
    "    \"Total Budget\": f\"${total_budget:,.2f}\",\n",
    "    \"Average Maths Score\": f\"{average_maths_score:.6f}\",\n",
    "    \"Average Reading Score\": f\"{average_reading_score:.5f}\",\n",
    "    \"% Passing Maths\": f\"{percent_passing_maths:.6f}\",\n",
    "    \"% Passing Reading\": f\"{percent_passing_reading:.6f}\",\n",
    "    \"% Overall Passing\": f\"{Overall_passing: .6f}\"\n",
    "}, index=[0])\n",
    "\n",
    "district_summary"
   ]
  },
  {
   "cell_type": "markdown",
   "metadata": {},
   "source": [
    "## School Summary"
   ]
  },
  {
   "cell_type": "markdown",
   "metadata": {},
   "source": [
    "* Create an overview table that summarises key metrics about each school, including:\n",
    "  * School Name\n",
    "  * School Type\n",
    "  * Total Students\n",
    "  * Total School Budget\n",
    "  * Per Student Budget\n",
    "  * Average Maths Score\n",
    "  * Average Reading Score\n",
    "  * % Passing Maths\n",
    "  * % Passing Reading\n",
    "  * % Overall Passing (The percentage of students that passed maths **and** reading.)\n",
    "  \n",
    "* Create a dataframe to hold the above results"
   ]
  },
  {
   "cell_type": "code",
   "execution_count": 176,
   "metadata": {},
   "outputs": [],
   "source": [
    "# Group by school name\n",
    "school_name = school_data_complete.set_index('school_name').groupby(['school_name'])"
   ]
  },
  {
   "cell_type": "code",
   "execution_count": 177,
   "metadata": {},
   "outputs": [],
   "source": [
    "# school types by school name\n",
    "school_type = school_data.set_index('school_name')['type']"
   ]
  },
  {
   "cell_type": "code",
   "execution_count": 178,
   "metadata": {},
   "outputs": [],
   "source": [
    "#  Calculate total students\n",
    "total_student = school_name['Student ID'].count()"
   ]
  },
  {
   "cell_type": "code",
   "execution_count": 179,
   "metadata": {},
   "outputs": [],
   "source": [
    "# Total school budget\n",
    "total_school_budget = school_data.set_index('school_name')['budget']"
   ]
  },
  {
   "cell_type": "code",
   "execution_count": 180,
   "metadata": {},
   "outputs": [],
   "source": [
    "# per student budget\n",
    "budget_per_student = (school_data.set_index('school_name')['budget']/school_data.set_index('school_name')['size'])"
   ]
  },
  {
   "cell_type": "code",
   "execution_count": 181,
   "metadata": {},
   "outputs": [],
   "source": [
    "# Average Math Score\n",
    "average_maths_score = school_name['maths_score'].mean()"
   ]
  },
  {
   "cell_type": "code",
   "execution_count": 182,
   "metadata": {},
   "outputs": [],
   "source": [
    "# Average Reading Score\n",
    "average_reading_score = school_name['reading_score'].mean()"
   ]
  },
  {
   "cell_type": "code",
   "execution_count": 183,
   "metadata": {},
   "outputs": [],
   "source": [
    "# % Passing Math\n",
    "pass_maths_percent = school_data_complete[school_data_complete['maths_score'] >= 50].groupby('school_name')['Student ID'].count()/total_student*100"
   ]
  },
  {
   "cell_type": "code",
   "execution_count": 184,
   "metadata": {},
   "outputs": [],
   "source": [
    "# % Passing Reading\n",
    "pass_read_percent = school_data_complete[school_data_complete['reading_score'] >= 50].groupby('school_name')['Student ID'].count()/total_student*100"
   ]
  },
  {
   "cell_type": "code",
   "execution_count": 185,
   "metadata": {},
   "outputs": [],
   "source": [
    "# % Overall Passing (The percentage of students that passed maths and reading.)\n",
    "overall_pass = school_data_complete[(school_data_complete['reading_score'] >= 50) & (school_data_complete['maths_score'] >= 50)].groupby('school_name')['Student ID'].count()/total_student*100"
   ]
  },
  {
   "cell_type": "code",
   "execution_count": 186,
   "metadata": {},
   "outputs": [
    {
     "data": {
      "text/html": [
       "<style type=\"text/css\">\n",
       "</style>\n",
       "<table id=\"T_4e1a3\">\n",
       "  <thead>\n",
       "    <tr>\n",
       "      <th class=\"blank level0\" >&nbsp;</th>\n",
       "      <th id=\"T_4e1a3_level0_col0\" class=\"col_heading level0 col0\" >School Type</th>\n",
       "      <th id=\"T_4e1a3_level0_col1\" class=\"col_heading level0 col1\" >Total Students</th>\n",
       "      <th id=\"T_4e1a3_level0_col2\" class=\"col_heading level0 col2\" >Total School Budget</th>\n",
       "      <th id=\"T_4e1a3_level0_col3\" class=\"col_heading level0 col3\" >Per Student Budget</th>\n",
       "      <th id=\"T_4e1a3_level0_col4\" class=\"col_heading level0 col4\" >Average Maths Score</th>\n",
       "      <th id=\"T_4e1a3_level0_col5\" class=\"col_heading level0 col5\" >Average Reading Score</th>\n",
       "      <th id=\"T_4e1a3_level0_col6\" class=\"col_heading level0 col6\" >% Passing Maths</th>\n",
       "      <th id=\"T_4e1a3_level0_col7\" class=\"col_heading level0 col7\" >% Passing Reading</th>\n",
       "      <th id=\"T_4e1a3_level0_col8\" class=\"col_heading level0 col8\" >% Overall Passing</th>\n",
       "    </tr>\n",
       "    <tr>\n",
       "      <th class=\"index_name level0\" >school_name</th>\n",
       "      <th class=\"blank col0\" >&nbsp;</th>\n",
       "      <th class=\"blank col1\" >&nbsp;</th>\n",
       "      <th class=\"blank col2\" >&nbsp;</th>\n",
       "      <th class=\"blank col3\" >&nbsp;</th>\n",
       "      <th class=\"blank col4\" >&nbsp;</th>\n",
       "      <th class=\"blank col5\" >&nbsp;</th>\n",
       "      <th class=\"blank col6\" >&nbsp;</th>\n",
       "      <th class=\"blank col7\" >&nbsp;</th>\n",
       "      <th class=\"blank col8\" >&nbsp;</th>\n",
       "    </tr>\n",
       "  </thead>\n",
       "  <tbody>\n",
       "    <tr>\n",
       "      <th id=\"T_4e1a3_level0_row0\" class=\"row_heading level0 row0\" >Bailey High School</th>\n",
       "      <td id=\"T_4e1a3_row0_col0\" class=\"data row0 col0\" >Government</td>\n",
       "      <td id=\"T_4e1a3_row0_col1\" class=\"data row0 col1\" >4976</td>\n",
       "      <td id=\"T_4e1a3_row0_col2\" class=\"data row0 col2\" >$3,124,928.00</td>\n",
       "      <td id=\"T_4e1a3_row0_col3\" class=\"data row0 col3\" >$628.00</td>\n",
       "      <td id=\"T_4e1a3_row0_col4\" class=\"data row0 col4\" >72.352894</td>\n",
       "      <td id=\"T_4e1a3_row0_col5\" class=\"data row0 col5\" >71.008842</td>\n",
       "      <td id=\"T_4e1a3_row0_col6\" class=\"data row0 col6\" >91.639871</td>\n",
       "      <td id=\"T_4e1a3_row0_col7\" class=\"data row0 col7\" >87.379421</td>\n",
       "      <td id=\"T_4e1a3_row0_col8\" class=\"data row0 col8\" >80.084405</td>\n",
       "    </tr>\n",
       "    <tr>\n",
       "      <th id=\"T_4e1a3_level0_row1\" class=\"row_heading level0 row1\" >Cabrera High School</th>\n",
       "      <td id=\"T_4e1a3_row1_col0\" class=\"data row1 col0\" >Independent</td>\n",
       "      <td id=\"T_4e1a3_row1_col1\" class=\"data row1 col1\" >1858</td>\n",
       "      <td id=\"T_4e1a3_row1_col2\" class=\"data row1 col2\" >$1,081,356.00</td>\n",
       "      <td id=\"T_4e1a3_row1_col3\" class=\"data row1 col3\" >$582.00</td>\n",
       "      <td id=\"T_4e1a3_row1_col4\" class=\"data row1 col4\" >71.657158</td>\n",
       "      <td id=\"T_4e1a3_row1_col5\" class=\"data row1 col5\" >71.359526</td>\n",
       "      <td id=\"T_4e1a3_row1_col6\" class=\"data row1 col6\" >90.850377</td>\n",
       "      <td id=\"T_4e1a3_row1_col7\" class=\"data row1 col7\" >89.074273</td>\n",
       "      <td id=\"T_4e1a3_row1_col8\" class=\"data row1 col8\" >80.785791</td>\n",
       "    </tr>\n",
       "    <tr>\n",
       "      <th id=\"T_4e1a3_level0_row2\" class=\"row_heading level0 row2\" >Figueroa High School</th>\n",
       "      <td id=\"T_4e1a3_row2_col0\" class=\"data row2 col0\" >Government</td>\n",
       "      <td id=\"T_4e1a3_row2_col1\" class=\"data row2 col1\" >2949</td>\n",
       "      <td id=\"T_4e1a3_row2_col2\" class=\"data row2 col2\" >$1,884,411.00</td>\n",
       "      <td id=\"T_4e1a3_row2_col3\" class=\"data row2 col3\" >$639.00</td>\n",
       "      <td id=\"T_4e1a3_row2_col4\" class=\"data row2 col4\" >68.698542</td>\n",
       "      <td id=\"T_4e1a3_row2_col5\" class=\"data row2 col5\" >69.077993</td>\n",
       "      <td id=\"T_4e1a3_row2_col6\" class=\"data row2 col6\" >81.654798</td>\n",
       "      <td id=\"T_4e1a3_row2_col7\" class=\"data row2 col7\" >82.807731</td>\n",
       "      <td id=\"T_4e1a3_row2_col8\" class=\"data row2 col8\" >67.650051</td>\n",
       "    </tr>\n",
       "    <tr>\n",
       "      <th id=\"T_4e1a3_level0_row3\" class=\"row_heading level0 row3\" >Ford High School</th>\n",
       "      <td id=\"T_4e1a3_row3_col0\" class=\"data row3 col0\" >Government</td>\n",
       "      <td id=\"T_4e1a3_row3_col1\" class=\"data row3 col1\" >2739</td>\n",
       "      <td id=\"T_4e1a3_row3_col2\" class=\"data row3 col2\" >$1,763,916.00</td>\n",
       "      <td id=\"T_4e1a3_row3_col3\" class=\"data row3 col3\" >$644.00</td>\n",
       "      <td id=\"T_4e1a3_row3_col4\" class=\"data row3 col4\" >69.091274</td>\n",
       "      <td id=\"T_4e1a3_row3_col5\" class=\"data row3 col5\" >69.572472</td>\n",
       "      <td id=\"T_4e1a3_row3_col6\" class=\"data row3 col6\" >82.438846</td>\n",
       "      <td id=\"T_4e1a3_row3_col7\" class=\"data row3 col7\" >82.219788</td>\n",
       "      <td id=\"T_4e1a3_row3_col8\" class=\"data row3 col8\" >67.469880</td>\n",
       "    </tr>\n",
       "    <tr>\n",
       "      <th id=\"T_4e1a3_level0_row4\" class=\"row_heading level0 row4\" >Griffin High School</th>\n",
       "      <td id=\"T_4e1a3_row4_col0\" class=\"data row4 col0\" >Independent</td>\n",
       "      <td id=\"T_4e1a3_row4_col1\" class=\"data row4 col1\" >1468</td>\n",
       "      <td id=\"T_4e1a3_row4_col2\" class=\"data row4 col2\" >$917,500.00</td>\n",
       "      <td id=\"T_4e1a3_row4_col3\" class=\"data row4 col3\" >$625.00</td>\n",
       "      <td id=\"T_4e1a3_row4_col4\" class=\"data row4 col4\" >71.788147</td>\n",
       "      <td id=\"T_4e1a3_row4_col5\" class=\"data row4 col5\" >71.245232</td>\n",
       "      <td id=\"T_4e1a3_row4_col6\" class=\"data row4 col6\" >91.212534</td>\n",
       "      <td id=\"T_4e1a3_row4_col7\" class=\"data row4 col7\" >88.487738</td>\n",
       "      <td id=\"T_4e1a3_row4_col8\" class=\"data row4 col8\" >81.335150</td>\n",
       "    </tr>\n",
       "    <tr>\n",
       "      <th id=\"T_4e1a3_level0_row5\" class=\"row_heading level0 row5\" >Hernandez High School</th>\n",
       "      <td id=\"T_4e1a3_row5_col0\" class=\"data row5 col0\" >Government</td>\n",
       "      <td id=\"T_4e1a3_row5_col1\" class=\"data row5 col1\" >4635</td>\n",
       "      <td id=\"T_4e1a3_row5_col2\" class=\"data row5 col2\" >$3,022,020.00</td>\n",
       "      <td id=\"T_4e1a3_row5_col3\" class=\"data row5 col3\" >$652.00</td>\n",
       "      <td id=\"T_4e1a3_row5_col4\" class=\"data row5 col4\" >68.874865</td>\n",
       "      <td id=\"T_4e1a3_row5_col5\" class=\"data row5 col5\" >69.186408</td>\n",
       "      <td id=\"T_4e1a3_row5_col6\" class=\"data row5 col6\" >80.949299</td>\n",
       "      <td id=\"T_4e1a3_row5_col7\" class=\"data row5 col7\" >81.877023</td>\n",
       "      <td id=\"T_4e1a3_row5_col8\" class=\"data row5 col8\" >66.364617</td>\n",
       "    </tr>\n",
       "    <tr>\n",
       "      <th id=\"T_4e1a3_level0_row6\" class=\"row_heading level0 row6\" >Holden High School</th>\n",
       "      <td id=\"T_4e1a3_row6_col0\" class=\"data row6 col0\" >Independent</td>\n",
       "      <td id=\"T_4e1a3_row6_col1\" class=\"data row6 col1\" >427</td>\n",
       "      <td id=\"T_4e1a3_row6_col2\" class=\"data row6 col2\" >$248,087.00</td>\n",
       "      <td id=\"T_4e1a3_row6_col3\" class=\"data row6 col3\" >$581.00</td>\n",
       "      <td id=\"T_4e1a3_row6_col4\" class=\"data row6 col4\" >72.583138</td>\n",
       "      <td id=\"T_4e1a3_row6_col5\" class=\"data row6 col5\" >71.660422</td>\n",
       "      <td id=\"T_4e1a3_row6_col6\" class=\"data row6 col6\" >89.929742</td>\n",
       "      <td id=\"T_4e1a3_row6_col7\" class=\"data row6 col7\" >88.524590</td>\n",
       "      <td id=\"T_4e1a3_row6_col8\" class=\"data row6 col8\" >78.922717</td>\n",
       "    </tr>\n",
       "    <tr>\n",
       "      <th id=\"T_4e1a3_level0_row7\" class=\"row_heading level0 row7\" >Huang High School</th>\n",
       "      <td id=\"T_4e1a3_row7_col0\" class=\"data row7 col0\" >Government</td>\n",
       "      <td id=\"T_4e1a3_row7_col1\" class=\"data row7 col1\" >2917</td>\n",
       "      <td id=\"T_4e1a3_row7_col2\" class=\"data row7 col2\" >$1,910,635.00</td>\n",
       "      <td id=\"T_4e1a3_row7_col3\" class=\"data row7 col3\" >$655.00</td>\n",
       "      <td id=\"T_4e1a3_row7_col4\" class=\"data row7 col4\" >68.935207</td>\n",
       "      <td id=\"T_4e1a3_row7_col5\" class=\"data row7 col5\" >68.910525</td>\n",
       "      <td id=\"T_4e1a3_row7_col6\" class=\"data row7 col6\" >81.693521</td>\n",
       "      <td id=\"T_4e1a3_row7_col7\" class=\"data row7 col7\" >81.453548</td>\n",
       "      <td id=\"T_4e1a3_row7_col8\" class=\"data row7 col8\" >66.712376</td>\n",
       "    </tr>\n",
       "    <tr>\n",
       "      <th id=\"T_4e1a3_level0_row8\" class=\"row_heading level0 row8\" >Johnson High School</th>\n",
       "      <td id=\"T_4e1a3_row8_col0\" class=\"data row8 col0\" >Government</td>\n",
       "      <td id=\"T_4e1a3_row8_col1\" class=\"data row8 col1\" >4761</td>\n",
       "      <td id=\"T_4e1a3_row8_col2\" class=\"data row8 col2\" >$3,094,650.00</td>\n",
       "      <td id=\"T_4e1a3_row8_col3\" class=\"data row8 col3\" >$650.00</td>\n",
       "      <td id=\"T_4e1a3_row8_col4\" class=\"data row8 col4\" >68.843100</td>\n",
       "      <td id=\"T_4e1a3_row8_col5\" class=\"data row8 col5\" >69.039277</td>\n",
       "      <td id=\"T_4e1a3_row8_col6\" class=\"data row8 col6\" >82.062592</td>\n",
       "      <td id=\"T_4e1a3_row8_col7\" class=\"data row8 col7\" >81.978576</td>\n",
       "      <td id=\"T_4e1a3_row8_col8\" class=\"data row8 col8\" >67.191766</td>\n",
       "    </tr>\n",
       "    <tr>\n",
       "      <th id=\"T_4e1a3_level0_row9\" class=\"row_heading level0 row9\" >Pena High School</th>\n",
       "      <td id=\"T_4e1a3_row9_col0\" class=\"data row9 col0\" >Independent</td>\n",
       "      <td id=\"T_4e1a3_row9_col1\" class=\"data row9 col1\" >962</td>\n",
       "      <td id=\"T_4e1a3_row9_col2\" class=\"data row9 col2\" >$585,858.00</td>\n",
       "      <td id=\"T_4e1a3_row9_col3\" class=\"data row9 col3\" >$609.00</td>\n",
       "      <td id=\"T_4e1a3_row9_col4\" class=\"data row9 col4\" >72.088358</td>\n",
       "      <td id=\"T_4e1a3_row9_col5\" class=\"data row9 col5\" >71.613306</td>\n",
       "      <td id=\"T_4e1a3_row9_col6\" class=\"data row9 col6\" >91.683992</td>\n",
       "      <td id=\"T_4e1a3_row9_col7\" class=\"data row9 col7\" >86.590437</td>\n",
       "      <td id=\"T_4e1a3_row9_col8\" class=\"data row9 col8\" >79.209979</td>\n",
       "    </tr>\n",
       "    <tr>\n",
       "      <th id=\"T_4e1a3_level0_row10\" class=\"row_heading level0 row10\" >Rodriguez High School</th>\n",
       "      <td id=\"T_4e1a3_row10_col0\" class=\"data row10 col0\" >Government</td>\n",
       "      <td id=\"T_4e1a3_row10_col1\" class=\"data row10 col1\" >3999</td>\n",
       "      <td id=\"T_4e1a3_row10_col2\" class=\"data row10 col2\" >$2,547,363.00</td>\n",
       "      <td id=\"T_4e1a3_row10_col3\" class=\"data row10 col3\" >$637.00</td>\n",
       "      <td id=\"T_4e1a3_row10_col4\" class=\"data row10 col4\" >72.047762</td>\n",
       "      <td id=\"T_4e1a3_row10_col5\" class=\"data row10 col5\" >70.935984</td>\n",
       "      <td id=\"T_4e1a3_row10_col6\" class=\"data row10 col6\" >90.797699</td>\n",
       "      <td id=\"T_4e1a3_row10_col7\" class=\"data row10 col7\" >87.396849</td>\n",
       "      <td id=\"T_4e1a3_row10_col8\" class=\"data row10 col8\" >79.419855</td>\n",
       "    </tr>\n",
       "    <tr>\n",
       "      <th id=\"T_4e1a3_level0_row11\" class=\"row_heading level0 row11\" >Shelton High School</th>\n",
       "      <td id=\"T_4e1a3_row11_col0\" class=\"data row11 col0\" >Independent</td>\n",
       "      <td id=\"T_4e1a3_row11_col1\" class=\"data row11 col1\" >1761</td>\n",
       "      <td id=\"T_4e1a3_row11_col2\" class=\"data row11 col2\" >$1,056,600.00</td>\n",
       "      <td id=\"T_4e1a3_row11_col3\" class=\"data row11 col3\" >$600.00</td>\n",
       "      <td id=\"T_4e1a3_row11_col4\" class=\"data row11 col4\" >72.034072</td>\n",
       "      <td id=\"T_4e1a3_row11_col5\" class=\"data row11 col5\" >70.257808</td>\n",
       "      <td id=\"T_4e1a3_row11_col6\" class=\"data row11 col6\" >91.538898</td>\n",
       "      <td id=\"T_4e1a3_row11_col7\" class=\"data row11 col7\" >86.712095</td>\n",
       "      <td id=\"T_4e1a3_row11_col8\" class=\"data row11 col8\" >78.875639</td>\n",
       "    </tr>\n",
       "    <tr>\n",
       "      <th id=\"T_4e1a3_level0_row12\" class=\"row_heading level0 row12\" >Thomas High School</th>\n",
       "      <td id=\"T_4e1a3_row12_col0\" class=\"data row12 col0\" >Independent</td>\n",
       "      <td id=\"T_4e1a3_row12_col1\" class=\"data row12 col1\" >1635</td>\n",
       "      <td id=\"T_4e1a3_row12_col2\" class=\"data row12 col2\" >$1,043,130.00</td>\n",
       "      <td id=\"T_4e1a3_row12_col3\" class=\"data row12 col3\" >$638.00</td>\n",
       "      <td id=\"T_4e1a3_row12_col4\" class=\"data row12 col4\" >69.581651</td>\n",
       "      <td id=\"T_4e1a3_row12_col5\" class=\"data row12 col5\" >69.768807</td>\n",
       "      <td id=\"T_4e1a3_row12_col6\" class=\"data row12 col6\" >83.853211</td>\n",
       "      <td id=\"T_4e1a3_row12_col7\" class=\"data row12 col7\" >82.629969</td>\n",
       "      <td id=\"T_4e1a3_row12_col8\" class=\"data row12 col8\" >69.480122</td>\n",
       "    </tr>\n",
       "    <tr>\n",
       "      <th id=\"T_4e1a3_level0_row13\" class=\"row_heading level0 row13\" >Wilson High School</th>\n",
       "      <td id=\"T_4e1a3_row13_col0\" class=\"data row13 col0\" >Independent</td>\n",
       "      <td id=\"T_4e1a3_row13_col1\" class=\"data row13 col1\" >2283</td>\n",
       "      <td id=\"T_4e1a3_row13_col2\" class=\"data row13 col2\" >$1,319,574.00</td>\n",
       "      <td id=\"T_4e1a3_row13_col3\" class=\"data row13 col3\" >$578.00</td>\n",
       "      <td id=\"T_4e1a3_row13_col4\" class=\"data row13 col4\" >69.170828</td>\n",
       "      <td id=\"T_4e1a3_row13_col5\" class=\"data row13 col5\" >68.876916</td>\n",
       "      <td id=\"T_4e1a3_row13_col6\" class=\"data row13 col6\" >82.785808</td>\n",
       "      <td id=\"T_4e1a3_row13_col7\" class=\"data row13 col7\" >81.296540</td>\n",
       "      <td id=\"T_4e1a3_row13_col8\" class=\"data row13 col8\" >67.455103</td>\n",
       "    </tr>\n",
       "    <tr>\n",
       "      <th id=\"T_4e1a3_level0_row14\" class=\"row_heading level0 row14\" >Wright High School</th>\n",
       "      <td id=\"T_4e1a3_row14_col0\" class=\"data row14 col0\" >Independent</td>\n",
       "      <td id=\"T_4e1a3_row14_col1\" class=\"data row14 col1\" >1800</td>\n",
       "      <td id=\"T_4e1a3_row14_col2\" class=\"data row14 col2\" >$1,049,400.00</td>\n",
       "      <td id=\"T_4e1a3_row14_col3\" class=\"data row14 col3\" >$583.00</td>\n",
       "      <td id=\"T_4e1a3_row14_col4\" class=\"data row14 col4\" >72.047222</td>\n",
       "      <td id=\"T_4e1a3_row14_col5\" class=\"data row14 col5\" >70.969444</td>\n",
       "      <td id=\"T_4e1a3_row14_col6\" class=\"data row14 col6\" >91.777778</td>\n",
       "      <td id=\"T_4e1a3_row14_col7\" class=\"data row14 col7\" >86.666667</td>\n",
       "      <td id=\"T_4e1a3_row14_col8\" class=\"data row14 col8\" >79.722222</td>\n",
       "    </tr>\n",
       "  </tbody>\n",
       "</table>\n"
      ],
      "text/plain": [
       "<pandas.io.formats.style.Styler at 0x1f034ed0850>"
      ]
     },
     "execution_count": 186,
     "metadata": {},
     "output_type": "execute_result"
    }
   ],
   "source": [
    "school_summary = pd.DataFrame({\n",
    "    \"School Type\": school_type,\n",
    "    \"Total Students\": total_student,\n",
    "    \"Per Student Budget\": budget_per_student,\n",
    "    \"Total School Budget\": total_school_budget,\n",
    "    \"Average Maths Score\": average_maths_score,\n",
    "    \"Average Reading Score\": average_reading_score,\n",
    "    '% Passing Maths': pass_maths_percent,\n",
    "    '% Passing Reading': pass_read_percent,\n",
    "    \"% Overall Passing\": overall_pass\n",
    "})\n",
    "\n",
    "school_summary = school_summary[['School Type', \n",
    "                          'Total Students', \n",
    "                          'Total School Budget', \n",
    "                          'Per Student Budget', \n",
    "                          'Average Maths Score', \n",
    "                          'Average Reading Score',\n",
    "                          '% Passing Maths',\n",
    "                          '% Passing Reading',\n",
    "                          '% Overall Passing']]\n",
    "\n",
    "school_summary.style.format({'Total Students': '{:}',\n",
    "                          \"Total School Budget\": \"${:,.2f}\",\n",
    "                          \"Per Student Budget\": \"${:.2f}\",\n",
    "                          'Average Maths Score': \"{:6f}\", \n",
    "                          'Average Reading Score': \"{:6f}\", \n",
    "                          \"% Passing Maths\": \"{:6f}\", \n",
    "                          \"% Passing Reading\": \"{:6f}\"})\n"
   ]
  },
  {
   "cell_type": "markdown",
   "metadata": {},
   "source": [
    "## Top Performing Schools (By % Overall Passing)"
   ]
  },
  {
   "cell_type": "markdown",
   "metadata": {},
   "source": [
    "* Sort and display the top five performing schools by % overall passing."
   ]
  },
  {
   "cell_type": "code",
   "execution_count": 187,
   "metadata": {
    "scrolled": true
   },
   "outputs": [
    {
     "data": {
      "text/html": [
       "<style type=\"text/css\">\n",
       "</style>\n",
       "<table id=\"T_fac9f\">\n",
       "  <thead>\n",
       "    <tr>\n",
       "      <th class=\"blank level0\" >&nbsp;</th>\n",
       "      <th id=\"T_fac9f_level0_col0\" class=\"col_heading level0 col0\" >School Type</th>\n",
       "      <th id=\"T_fac9f_level0_col1\" class=\"col_heading level0 col1\" >Total Students</th>\n",
       "      <th id=\"T_fac9f_level0_col2\" class=\"col_heading level0 col2\" >Total School Budget</th>\n",
       "      <th id=\"T_fac9f_level0_col3\" class=\"col_heading level0 col3\" >Per Student Budget</th>\n",
       "      <th id=\"T_fac9f_level0_col4\" class=\"col_heading level0 col4\" >Average Maths Score</th>\n",
       "      <th id=\"T_fac9f_level0_col5\" class=\"col_heading level0 col5\" >Average Reading Score</th>\n",
       "      <th id=\"T_fac9f_level0_col6\" class=\"col_heading level0 col6\" >% Passing Maths</th>\n",
       "      <th id=\"T_fac9f_level0_col7\" class=\"col_heading level0 col7\" >% Passing Reading</th>\n",
       "      <th id=\"T_fac9f_level0_col8\" class=\"col_heading level0 col8\" >% Overall Passing</th>\n",
       "    </tr>\n",
       "    <tr>\n",
       "      <th class=\"index_name level0\" >school_name</th>\n",
       "      <th class=\"blank col0\" >&nbsp;</th>\n",
       "      <th class=\"blank col1\" >&nbsp;</th>\n",
       "      <th class=\"blank col2\" >&nbsp;</th>\n",
       "      <th class=\"blank col3\" >&nbsp;</th>\n",
       "      <th class=\"blank col4\" >&nbsp;</th>\n",
       "      <th class=\"blank col5\" >&nbsp;</th>\n",
       "      <th class=\"blank col6\" >&nbsp;</th>\n",
       "      <th class=\"blank col7\" >&nbsp;</th>\n",
       "      <th class=\"blank col8\" >&nbsp;</th>\n",
       "    </tr>\n",
       "  </thead>\n",
       "  <tbody>\n",
       "    <tr>\n",
       "      <th id=\"T_fac9f_level0_row0\" class=\"row_heading level0 row0\" >Griffin High School</th>\n",
       "      <td id=\"T_fac9f_row0_col0\" class=\"data row0 col0\" >Independent</td>\n",
       "      <td id=\"T_fac9f_row0_col1\" class=\"data row0 col1\" >1468</td>\n",
       "      <td id=\"T_fac9f_row0_col2\" class=\"data row0 col2\" >$917,500.00</td>\n",
       "      <td id=\"T_fac9f_row0_col3\" class=\"data row0 col3\" >$625.00</td>\n",
       "      <td id=\"T_fac9f_row0_col4\" class=\"data row0 col4\" >71.788147</td>\n",
       "      <td id=\"T_fac9f_row0_col5\" class=\"data row0 col5\" >71.245232</td>\n",
       "      <td id=\"T_fac9f_row0_col6\" class=\"data row0 col6\" >91.212534</td>\n",
       "      <td id=\"T_fac9f_row0_col7\" class=\"data row0 col7\" >88.487738</td>\n",
       "      <td id=\"T_fac9f_row0_col8\" class=\"data row0 col8\" >81.335150</td>\n",
       "    </tr>\n",
       "    <tr>\n",
       "      <th id=\"T_fac9f_level0_row1\" class=\"row_heading level0 row1\" >Cabrera High School</th>\n",
       "      <td id=\"T_fac9f_row1_col0\" class=\"data row1 col0\" >Independent</td>\n",
       "      <td id=\"T_fac9f_row1_col1\" class=\"data row1 col1\" >1858</td>\n",
       "      <td id=\"T_fac9f_row1_col2\" class=\"data row1 col2\" >$1,081,356.00</td>\n",
       "      <td id=\"T_fac9f_row1_col3\" class=\"data row1 col3\" >$582.00</td>\n",
       "      <td id=\"T_fac9f_row1_col4\" class=\"data row1 col4\" >71.657158</td>\n",
       "      <td id=\"T_fac9f_row1_col5\" class=\"data row1 col5\" >71.359526</td>\n",
       "      <td id=\"T_fac9f_row1_col6\" class=\"data row1 col6\" >90.850377</td>\n",
       "      <td id=\"T_fac9f_row1_col7\" class=\"data row1 col7\" >89.074273</td>\n",
       "      <td id=\"T_fac9f_row1_col8\" class=\"data row1 col8\" >80.785791</td>\n",
       "    </tr>\n",
       "    <tr>\n",
       "      <th id=\"T_fac9f_level0_row2\" class=\"row_heading level0 row2\" >Bailey High School</th>\n",
       "      <td id=\"T_fac9f_row2_col0\" class=\"data row2 col0\" >Government</td>\n",
       "      <td id=\"T_fac9f_row2_col1\" class=\"data row2 col1\" >4976</td>\n",
       "      <td id=\"T_fac9f_row2_col2\" class=\"data row2 col2\" >$3,124,928.00</td>\n",
       "      <td id=\"T_fac9f_row2_col3\" class=\"data row2 col3\" >$628.00</td>\n",
       "      <td id=\"T_fac9f_row2_col4\" class=\"data row2 col4\" >72.352894</td>\n",
       "      <td id=\"T_fac9f_row2_col5\" class=\"data row2 col5\" >71.008842</td>\n",
       "      <td id=\"T_fac9f_row2_col6\" class=\"data row2 col6\" >91.639871</td>\n",
       "      <td id=\"T_fac9f_row2_col7\" class=\"data row2 col7\" >87.379421</td>\n",
       "      <td id=\"T_fac9f_row2_col8\" class=\"data row2 col8\" >80.084405</td>\n",
       "    </tr>\n",
       "    <tr>\n",
       "      <th id=\"T_fac9f_level0_row3\" class=\"row_heading level0 row3\" >Wright High School</th>\n",
       "      <td id=\"T_fac9f_row3_col0\" class=\"data row3 col0\" >Independent</td>\n",
       "      <td id=\"T_fac9f_row3_col1\" class=\"data row3 col1\" >1800</td>\n",
       "      <td id=\"T_fac9f_row3_col2\" class=\"data row3 col2\" >$1,049,400.00</td>\n",
       "      <td id=\"T_fac9f_row3_col3\" class=\"data row3 col3\" >$583.00</td>\n",
       "      <td id=\"T_fac9f_row3_col4\" class=\"data row3 col4\" >72.047222</td>\n",
       "      <td id=\"T_fac9f_row3_col5\" class=\"data row3 col5\" >70.969444</td>\n",
       "      <td id=\"T_fac9f_row3_col6\" class=\"data row3 col6\" >91.777778</td>\n",
       "      <td id=\"T_fac9f_row3_col7\" class=\"data row3 col7\" >86.666667</td>\n",
       "      <td id=\"T_fac9f_row3_col8\" class=\"data row3 col8\" >79.722222</td>\n",
       "    </tr>\n",
       "    <tr>\n",
       "      <th id=\"T_fac9f_level0_row4\" class=\"row_heading level0 row4\" >Rodriguez High School</th>\n",
       "      <td id=\"T_fac9f_row4_col0\" class=\"data row4 col0\" >Government</td>\n",
       "      <td id=\"T_fac9f_row4_col1\" class=\"data row4 col1\" >3999</td>\n",
       "      <td id=\"T_fac9f_row4_col2\" class=\"data row4 col2\" >$2,547,363.00</td>\n",
       "      <td id=\"T_fac9f_row4_col3\" class=\"data row4 col3\" >$637.00</td>\n",
       "      <td id=\"T_fac9f_row4_col4\" class=\"data row4 col4\" >72.047762</td>\n",
       "      <td id=\"T_fac9f_row4_col5\" class=\"data row4 col5\" >70.935984</td>\n",
       "      <td id=\"T_fac9f_row4_col6\" class=\"data row4 col6\" >90.797699</td>\n",
       "      <td id=\"T_fac9f_row4_col7\" class=\"data row4 col7\" >87.396849</td>\n",
       "      <td id=\"T_fac9f_row4_col8\" class=\"data row4 col8\" >79.419855</td>\n",
       "    </tr>\n",
       "  </tbody>\n",
       "</table>\n"
      ],
      "text/plain": [
       "<pandas.io.formats.style.Styler at 0x1f03d035310>"
      ]
     },
     "execution_count": 187,
     "metadata": {},
     "output_type": "execute_result"
    }
   ],
   "source": [
    "# Sort and display the top five performing schools by % overall passing.\n",
    "top_performing = school_summary.sort_values(\"% Overall Passing\", ascending = False)\n",
    "top_performing.head().style.format({'Total Students': '{:}',\n",
    "                           \"Total School Budget\": \"${:,.2f}\", \n",
    "                           \"Per Student Budget\": \"${:.2f}\", \n",
    "                           \"% Passing Maths\": \"{:6f}\", \n",
    "                           \"% Passing Reading\": \"{:6f}\", \n",
    "                           \"% Overall Passing\": \"{:6f}\"})"
   ]
  },
  {
   "cell_type": "markdown",
   "metadata": {},
   "source": [
    "## Bottom Performing Schools (By % Overall Passing)"
   ]
  },
  {
   "cell_type": "markdown",
   "metadata": {},
   "source": [
    "* Sort and display the five worst-performing schools by % overall passing."
   ]
  },
  {
   "cell_type": "code",
   "execution_count": 188,
   "metadata": {},
   "outputs": [
    {
     "data": {
      "text/html": [
       "<style type=\"text/css\">\n",
       "</style>\n",
       "<table id=\"T_82a43\">\n",
       "  <thead>\n",
       "    <tr>\n",
       "      <th class=\"blank level0\" >&nbsp;</th>\n",
       "      <th id=\"T_82a43_level0_col0\" class=\"col_heading level0 col0\" >School Type</th>\n",
       "      <th id=\"T_82a43_level0_col1\" class=\"col_heading level0 col1\" >Total Students</th>\n",
       "      <th id=\"T_82a43_level0_col2\" class=\"col_heading level0 col2\" >Total School Budget</th>\n",
       "      <th id=\"T_82a43_level0_col3\" class=\"col_heading level0 col3\" >Per Student Budget</th>\n",
       "      <th id=\"T_82a43_level0_col4\" class=\"col_heading level0 col4\" >Average Maths Score</th>\n",
       "      <th id=\"T_82a43_level0_col5\" class=\"col_heading level0 col5\" >Average Reading Score</th>\n",
       "      <th id=\"T_82a43_level0_col6\" class=\"col_heading level0 col6\" >% Passing Maths</th>\n",
       "      <th id=\"T_82a43_level0_col7\" class=\"col_heading level0 col7\" >% Passing Reading</th>\n",
       "      <th id=\"T_82a43_level0_col8\" class=\"col_heading level0 col8\" >% Overall Passing</th>\n",
       "    </tr>\n",
       "    <tr>\n",
       "      <th class=\"index_name level0\" >school_name</th>\n",
       "      <th class=\"blank col0\" >&nbsp;</th>\n",
       "      <th class=\"blank col1\" >&nbsp;</th>\n",
       "      <th class=\"blank col2\" >&nbsp;</th>\n",
       "      <th class=\"blank col3\" >&nbsp;</th>\n",
       "      <th class=\"blank col4\" >&nbsp;</th>\n",
       "      <th class=\"blank col5\" >&nbsp;</th>\n",
       "      <th class=\"blank col6\" >&nbsp;</th>\n",
       "      <th class=\"blank col7\" >&nbsp;</th>\n",
       "      <th class=\"blank col8\" >&nbsp;</th>\n",
       "    </tr>\n",
       "  </thead>\n",
       "  <tbody>\n",
       "    <tr>\n",
       "      <th id=\"T_82a43_level0_row0\" class=\"row_heading level0 row0\" >Hernandez High School</th>\n",
       "      <td id=\"T_82a43_row0_col0\" class=\"data row0 col0\" >Government</td>\n",
       "      <td id=\"T_82a43_row0_col1\" class=\"data row0 col1\" > 4635</td>\n",
       "      <td id=\"T_82a43_row0_col2\" class=\"data row0 col2\" >$3,022,020.00</td>\n",
       "      <td id=\"T_82a43_row0_col3\" class=\"data row0 col3\" >$652.00</td>\n",
       "      <td id=\"T_82a43_row0_col4\" class=\"data row0 col4\" >68.874865</td>\n",
       "      <td id=\"T_82a43_row0_col5\" class=\"data row0 col5\" >69.186408</td>\n",
       "      <td id=\"T_82a43_row0_col6\" class=\"data row0 col6\" >80.949299</td>\n",
       "      <td id=\"T_82a43_row0_col7\" class=\"data row0 col7\" >81.877023</td>\n",
       "      <td id=\"T_82a43_row0_col8\" class=\"data row0 col8\" >66.364617</td>\n",
       "    </tr>\n",
       "    <tr>\n",
       "      <th id=\"T_82a43_level0_row1\" class=\"row_heading level0 row1\" >Huang High School</th>\n",
       "      <td id=\"T_82a43_row1_col0\" class=\"data row1 col0\" >Government</td>\n",
       "      <td id=\"T_82a43_row1_col1\" class=\"data row1 col1\" > 2917</td>\n",
       "      <td id=\"T_82a43_row1_col2\" class=\"data row1 col2\" >$1,910,635.00</td>\n",
       "      <td id=\"T_82a43_row1_col3\" class=\"data row1 col3\" >$655.00</td>\n",
       "      <td id=\"T_82a43_row1_col4\" class=\"data row1 col4\" >68.935207</td>\n",
       "      <td id=\"T_82a43_row1_col5\" class=\"data row1 col5\" >68.910525</td>\n",
       "      <td id=\"T_82a43_row1_col6\" class=\"data row1 col6\" >81.693521</td>\n",
       "      <td id=\"T_82a43_row1_col7\" class=\"data row1 col7\" >81.453548</td>\n",
       "      <td id=\"T_82a43_row1_col8\" class=\"data row1 col8\" >66.712376</td>\n",
       "    </tr>\n",
       "    <tr>\n",
       "      <th id=\"T_82a43_level0_row2\" class=\"row_heading level0 row2\" >Johnson High School</th>\n",
       "      <td id=\"T_82a43_row2_col0\" class=\"data row2 col0\" >Government</td>\n",
       "      <td id=\"T_82a43_row2_col1\" class=\"data row2 col1\" > 4761</td>\n",
       "      <td id=\"T_82a43_row2_col2\" class=\"data row2 col2\" >$3,094,650.00</td>\n",
       "      <td id=\"T_82a43_row2_col3\" class=\"data row2 col3\" >$650.00</td>\n",
       "      <td id=\"T_82a43_row2_col4\" class=\"data row2 col4\" >68.843100</td>\n",
       "      <td id=\"T_82a43_row2_col5\" class=\"data row2 col5\" >69.039277</td>\n",
       "      <td id=\"T_82a43_row2_col6\" class=\"data row2 col6\" >82.062592</td>\n",
       "      <td id=\"T_82a43_row2_col7\" class=\"data row2 col7\" >81.978576</td>\n",
       "      <td id=\"T_82a43_row2_col8\" class=\"data row2 col8\" >67.191766</td>\n",
       "    </tr>\n",
       "    <tr>\n",
       "      <th id=\"T_82a43_level0_row3\" class=\"row_heading level0 row3\" >Wilson High School</th>\n",
       "      <td id=\"T_82a43_row3_col0\" class=\"data row3 col0\" >Independent</td>\n",
       "      <td id=\"T_82a43_row3_col1\" class=\"data row3 col1\" > 2283</td>\n",
       "      <td id=\"T_82a43_row3_col2\" class=\"data row3 col2\" >$1,319,574.00</td>\n",
       "      <td id=\"T_82a43_row3_col3\" class=\"data row3 col3\" >$578.00</td>\n",
       "      <td id=\"T_82a43_row3_col4\" class=\"data row3 col4\" >69.170828</td>\n",
       "      <td id=\"T_82a43_row3_col5\" class=\"data row3 col5\" >68.876916</td>\n",
       "      <td id=\"T_82a43_row3_col6\" class=\"data row3 col6\" >82.785808</td>\n",
       "      <td id=\"T_82a43_row3_col7\" class=\"data row3 col7\" >81.296540</td>\n",
       "      <td id=\"T_82a43_row3_col8\" class=\"data row3 col8\" >67.455103</td>\n",
       "    </tr>\n",
       "    <tr>\n",
       "      <th id=\"T_82a43_level0_row4\" class=\"row_heading level0 row4\" >Ford High School</th>\n",
       "      <td id=\"T_82a43_row4_col0\" class=\"data row4 col0\" >Government</td>\n",
       "      <td id=\"T_82a43_row4_col1\" class=\"data row4 col1\" > 2739</td>\n",
       "      <td id=\"T_82a43_row4_col2\" class=\"data row4 col2\" >$1,763,916.00</td>\n",
       "      <td id=\"T_82a43_row4_col3\" class=\"data row4 col3\" >$644.00</td>\n",
       "      <td id=\"T_82a43_row4_col4\" class=\"data row4 col4\" >69.091274</td>\n",
       "      <td id=\"T_82a43_row4_col5\" class=\"data row4 col5\" >69.572472</td>\n",
       "      <td id=\"T_82a43_row4_col6\" class=\"data row4 col6\" >82.438846</td>\n",
       "      <td id=\"T_82a43_row4_col7\" class=\"data row4 col7\" >82.219788</td>\n",
       "      <td id=\"T_82a43_row4_col8\" class=\"data row4 col8\" >67.469880</td>\n",
       "    </tr>\n",
       "  </tbody>\n",
       "</table>\n"
      ],
      "text/plain": [
       "<pandas.io.formats.style.Styler at 0x1f03cffcac0>"
      ]
     },
     "execution_count": 188,
     "metadata": {},
     "output_type": "execute_result"
    }
   ],
   "source": [
    "# Sort and display the five worst-performing schools by % overall passing. \n",
    "bottom_performing = top_performing.tail()\n",
    "bottom_performing = bottom_performing.sort_values('% Overall Passing')\n",
    "bottom_performing.style.format({'Total Students': '{: }', \n",
    "                       \"Total School Budget\": \"${:,.2f}\", \n",
    "                       \"Per Student Budget\": \"${:.2f}\", \n",
    "                       \"% Passing Maths\": \"{:6f}\", \n",
    "                       \"% Passing Reading\": \"{:6f}\", \n",
    "                       \"% Overall Passing\": \"{:6f}\"})"
   ]
  },
  {
   "cell_type": "markdown",
   "metadata": {
    "collapsed": true
   },
   "source": [
    "## Maths Scores by Year"
   ]
  },
  {
   "cell_type": "markdown",
   "metadata": {},
   "source": [
    "* Create a table that lists the average maths score for students of each year level (9, 10, 11, 12) at each school.\n",
    "\n",
    "  * Create a pandas series for each year. Hint: use a conditional statement.\n",
    "  \n",
    "  * Group each series by school\n",
    "  \n",
    "  * Combine the series into a dataframe\n",
    "  \n",
    "  * Optional: give the displayed data cleaner formatting"
   ]
  },
  {
   "cell_type": "code",
   "execution_count": 189,
   "metadata": {},
   "outputs": [],
   "source": [
    "# Create year level average maths score at each school \n",
    "yr9_maths = school_data_complete.loc[school_data_complete[\"year\"] == 9].groupby([\"school_name\"])[\"maths_score\"].mean()\n",
    "yr10_maths = school_data_complete.loc[school_data_complete[\"year\"] == 10].groupby([\"school_name\"])[\"maths_score\"].mean()\n",
    "yr11_maths = school_data_complete.loc[school_data_complete[\"year\"] == 11].groupby([\"school_name\"])[\"maths_score\"].mean()\n",
    "yr12_maths = school_data_complete.loc[school_data_complete[\"year\"] == 12].groupby([\"school_name\"])[\"maths_score\"].mean()\n"
   ]
  },
  {
   "cell_type": "code",
   "execution_count": 190,
   "metadata": {},
   "outputs": [],
   "source": [
    "# Combine the series into a dataframe\n",
    "maths_scores = pd.DataFrame({\"Year 9\": yr9_maths,\n",
    "      \"Year 10\": yr10_maths,\n",
    "      \"Year 11\": yr11_maths,\n",
    "      \"Year 12\": yr12_maths})\n",
    "\n",
    "# maths_scores"
   ]
  },
  {
   "cell_type": "code",
   "execution_count": 191,
   "metadata": {},
   "outputs": [],
   "source": [
    "maths_scores = maths_scores[['Year 9', 'Year 10', 'Year 11', 'Year 12']]\n",
    "maths_scores.index.name = \"School Name\"\n"
   ]
  },
  {
   "cell_type": "code",
   "execution_count": 192,
   "metadata": {},
   "outputs": [
    {
     "data": {
      "text/html": [
       "<style type=\"text/css\">\n",
       "</style>\n",
       "<table id=\"T_5e024\">\n",
       "  <thead>\n",
       "    <tr>\n",
       "      <th class=\"blank level0\" >&nbsp;</th>\n",
       "      <th id=\"T_5e024_level0_col0\" class=\"col_heading level0 col0\" >Year 9</th>\n",
       "      <th id=\"T_5e024_level0_col1\" class=\"col_heading level0 col1\" >Year 10</th>\n",
       "      <th id=\"T_5e024_level0_col2\" class=\"col_heading level0 col2\" >Year 11</th>\n",
       "      <th id=\"T_5e024_level0_col3\" class=\"col_heading level0 col3\" >Year 12</th>\n",
       "    </tr>\n",
       "    <tr>\n",
       "      <th class=\"index_name level0\" >School Name</th>\n",
       "      <th class=\"blank col0\" >&nbsp;</th>\n",
       "      <th class=\"blank col1\" >&nbsp;</th>\n",
       "      <th class=\"blank col2\" >&nbsp;</th>\n",
       "      <th class=\"blank col3\" >&nbsp;</th>\n",
       "    </tr>\n",
       "  </thead>\n",
       "  <tbody>\n",
       "    <tr>\n",
       "      <th id=\"T_5e024_level0_row0\" class=\"row_heading level0 row0\" >Bailey High School</th>\n",
       "      <td id=\"T_5e024_row0_col0\" class=\"data row0 col0\" >72.493827</td>\n",
       "      <td id=\"T_5e024_row0_col1\" class=\"data row0 col1\" >71.897498</td>\n",
       "      <td id=\"T_5e024_row0_col2\" class=\"data row0 col2\" >72.374900</td>\n",
       "      <td id=\"T_5e024_row0_col3\" class=\"data row0 col3\" >72.675097</td>\n",
       "    </tr>\n",
       "    <tr>\n",
       "      <th id=\"T_5e024_level0_row1\" class=\"row_heading level0 row1\" >Cabrera High School</th>\n",
       "      <td id=\"T_5e024_row1_col0\" class=\"data row1 col0\" >72.321970</td>\n",
       "      <td id=\"T_5e024_row1_col1\" class=\"data row1 col1\" >72.437768</td>\n",
       "      <td id=\"T_5e024_row1_col2\" class=\"data row1 col2\" >71.008299</td>\n",
       "      <td id=\"T_5e024_row1_col3\" class=\"data row1 col3\" >70.604712</td>\n",
       "    </tr>\n",
       "    <tr>\n",
       "      <th id=\"T_5e024_level0_row2\" class=\"row_heading level0 row2\" >Figueroa High School</th>\n",
       "      <td id=\"T_5e024_row2_col0\" class=\"data row2 col0\" >68.477804</td>\n",
       "      <td id=\"T_5e024_row2_col1\" class=\"data row2 col1\" >68.331586</td>\n",
       "      <td id=\"T_5e024_row2_col2\" class=\"data row2 col2\" >68.811001</td>\n",
       "      <td id=\"T_5e024_row2_col3\" class=\"data row2 col3\" >69.325282</td>\n",
       "    </tr>\n",
       "    <tr>\n",
       "      <th id=\"T_5e024_level0_row3\" class=\"row_heading level0 row3\" >Ford High School</th>\n",
       "      <td id=\"T_5e024_row3_col0\" class=\"data row3 col0\" >69.021609</td>\n",
       "      <td id=\"T_5e024_row3_col1\" class=\"data row3 col1\" >69.387006</td>\n",
       "      <td id=\"T_5e024_row3_col2\" class=\"data row3 col2\" >69.248862</td>\n",
       "      <td id=\"T_5e024_row3_col3\" class=\"data row3 col3\" >68.617811</td>\n",
       "    </tr>\n",
       "    <tr>\n",
       "      <th id=\"T_5e024_level0_row4\" class=\"row_heading level0 row4\" >Griffin High School</th>\n",
       "      <td id=\"T_5e024_row4_col0\" class=\"data row4 col0\" >72.789731</td>\n",
       "      <td id=\"T_5e024_row4_col1\" class=\"data row4 col1\" >71.093596</td>\n",
       "      <td id=\"T_5e024_row4_col2\" class=\"data row4 col2\" >71.692521</td>\n",
       "      <td id=\"T_5e024_row4_col3\" class=\"data row4 col3\" >71.469178</td>\n",
       "    </tr>\n",
       "    <tr>\n",
       "      <th id=\"T_5e024_level0_row5\" class=\"row_heading level0 row5\" >Hernandez High School</th>\n",
       "      <td id=\"T_5e024_row5_col0\" class=\"data row5 col0\" >68.586831</td>\n",
       "      <td id=\"T_5e024_row5_col1\" class=\"data row5 col1\" >68.867156</td>\n",
       "      <td id=\"T_5e024_row5_col2\" class=\"data row5 col2\" >69.154412</td>\n",
       "      <td id=\"T_5e024_row5_col3\" class=\"data row5 col3\" >68.985075</td>\n",
       "    </tr>\n",
       "    <tr>\n",
       "      <th id=\"T_5e024_level0_row6\" class=\"row_heading level0 row6\" >Holden High School</th>\n",
       "      <td id=\"T_5e024_row6_col0\" class=\"data row6 col0\" >70.543307</td>\n",
       "      <td id=\"T_5e024_row6_col1\" class=\"data row6 col1\" >75.105263</td>\n",
       "      <td id=\"T_5e024_row6_col2\" class=\"data row6 col2\" >71.640777</td>\n",
       "      <td id=\"T_5e024_row6_col3\" class=\"data row6 col3\" >73.409639</td>\n",
       "    </tr>\n",
       "    <tr>\n",
       "      <th id=\"T_5e024_level0_row7\" class=\"row_heading level0 row7\" >Huang High School</th>\n",
       "      <td id=\"T_5e024_row7_col0\" class=\"data row7 col0\" >69.081754</td>\n",
       "      <td id=\"T_5e024_row7_col1\" class=\"data row7 col1\" >68.533246</td>\n",
       "      <td id=\"T_5e024_row7_col2\" class=\"data row7 col2\" >69.431345</td>\n",
       "      <td id=\"T_5e024_row7_col3\" class=\"data row7 col3\" >68.639316</td>\n",
       "    </tr>\n",
       "    <tr>\n",
       "      <th id=\"T_5e024_level0_row8\" class=\"row_heading level0 row8\" >Johnson High School</th>\n",
       "      <td id=\"T_5e024_row8_col0\" class=\"data row8 col0\" >69.469286</td>\n",
       "      <td id=\"T_5e024_row8_col1\" class=\"data row8 col1\" >67.990220</td>\n",
       "      <td id=\"T_5e024_row8_col2\" class=\"data row8 col2\" >68.637730</td>\n",
       "      <td id=\"T_5e024_row8_col3\" class=\"data row8 col3\" >69.287393</td>\n",
       "    </tr>\n",
       "    <tr>\n",
       "      <th id=\"T_5e024_level0_row9\" class=\"row_heading level0 row9\" >Pena High School</th>\n",
       "      <td id=\"T_5e024_row9_col0\" class=\"data row9 col0\" >71.996364</td>\n",
       "      <td id=\"T_5e024_row9_col1\" class=\"data row9 col1\" >72.396000</td>\n",
       "      <td id=\"T_5e024_row9_col2\" class=\"data row9 col2\" >72.523438</td>\n",
       "      <td id=\"T_5e024_row9_col3\" class=\"data row9 col3\" >71.187845</td>\n",
       "    </tr>\n",
       "    <tr>\n",
       "      <th id=\"T_5e024_level0_row10\" class=\"row_heading level0 row10\" >Rodriguez High School</th>\n",
       "      <td id=\"T_5e024_row10_col0\" class=\"data row10 col0\" >71.940722</td>\n",
       "      <td id=\"T_5e024_row10_col1\" class=\"data row10 col1\" >71.779808</td>\n",
       "      <td id=\"T_5e024_row10_col2\" class=\"data row10 col2\" >72.364811</td>\n",
       "      <td id=\"T_5e024_row10_col3\" class=\"data row10 col3\" >72.154626</td>\n",
       "    </tr>\n",
       "    <tr>\n",
       "      <th id=\"T_5e024_level0_row11\" class=\"row_heading level0 row11\" >Shelton High School</th>\n",
       "      <td id=\"T_5e024_row11_col0\" class=\"data row11 col0\" >72.932075</td>\n",
       "      <td id=\"T_5e024_row11_col1\" class=\"data row11 col1\" >72.506696</td>\n",
       "      <td id=\"T_5e024_row11_col2\" class=\"data row11 col2\" >70.097087</td>\n",
       "      <td id=\"T_5e024_row11_col3\" class=\"data row11 col3\" >72.331536</td>\n",
       "    </tr>\n",
       "    <tr>\n",
       "      <th id=\"T_5e024_level0_row12\" class=\"row_heading level0 row12\" >Thomas High School</th>\n",
       "      <td id=\"T_5e024_row12_col0\" class=\"data row12 col0\" >69.234273</td>\n",
       "      <td id=\"T_5e024_row12_col1\" class=\"data row12 col1\" >70.057007</td>\n",
       "      <td id=\"T_5e024_row12_col2\" class=\"data row12 col2\" >69.657831</td>\n",
       "      <td id=\"T_5e024_row12_col3\" class=\"data row12 col3\" >69.369822</td>\n",
       "    </tr>\n",
       "    <tr>\n",
       "      <th id=\"T_5e024_level0_row13\" class=\"row_heading level0 row13\" >Wilson High School</th>\n",
       "      <td id=\"T_5e024_row13_col0\" class=\"data row13 col0\" >69.212361</td>\n",
       "      <td id=\"T_5e024_row13_col1\" class=\"data row13 col1\" >69.455446</td>\n",
       "      <td id=\"T_5e024_row13_col2\" class=\"data row13 col2\" >68.378965</td>\n",
       "      <td id=\"T_5e024_row13_col3\" class=\"data row13 col3\" >69.787472</td>\n",
       "    </tr>\n",
       "    <tr>\n",
       "      <th id=\"T_5e024_level0_row14\" class=\"row_heading level0 row14\" >Wright High School</th>\n",
       "      <td id=\"T_5e024_row14_col0\" class=\"data row14 col0\" >71.741176</td>\n",
       "      <td id=\"T_5e024_row14_col1\" class=\"data row14 col1\" >72.179012</td>\n",
       "      <td id=\"T_5e024_row14_col2\" class=\"data row14 col2\" >73.275862</td>\n",
       "      <td id=\"T_5e024_row14_col3\" class=\"data row14 col3\" >70.848238</td>\n",
       "    </tr>\n",
       "  </tbody>\n",
       "</table>\n"
      ],
      "text/plain": [
       "<pandas.io.formats.style.Styler at 0x1f03cc14a60>"
      ]
     },
     "execution_count": 192,
     "metadata": {},
     "output_type": "execute_result"
    }
   ],
   "source": [
    "# Optional: give the displayed data cleaner formatting\n",
    "maths_scores.style.format({'Year 9': '{:.6f}', \n",
    "                          \"Year 10\": '{:.6f}', \n",
    "                          \"Year 11\": \"{:.6f}\", \n",
    "                          \"Year 12\": \"{:.6f}\"})\n"
   ]
  },
  {
   "cell_type": "markdown",
   "metadata": {},
   "source": [
    "## Reading Score by Year"
   ]
  },
  {
   "cell_type": "markdown",
   "metadata": {},
   "source": [
    "* Perform the same operations as above for reading scores"
   ]
  },
  {
   "cell_type": "code",
   "execution_count": 193,
   "metadata": {},
   "outputs": [
    {
     "data": {
      "text/html": [
       "<style type=\"text/css\">\n",
       "</style>\n",
       "<table id=\"T_ce38e\">\n",
       "  <thead>\n",
       "    <tr>\n",
       "      <th class=\"blank level0\" >&nbsp;</th>\n",
       "      <th id=\"T_ce38e_level0_col0\" class=\"col_heading level0 col0\" >Year 9</th>\n",
       "      <th id=\"T_ce38e_level0_col1\" class=\"col_heading level0 col1\" >Year 10</th>\n",
       "      <th id=\"T_ce38e_level0_col2\" class=\"col_heading level0 col2\" >Year11</th>\n",
       "      <th id=\"T_ce38e_level0_col3\" class=\"col_heading level0 col3\" >Year 12</th>\n",
       "    </tr>\n",
       "    <tr>\n",
       "      <th class=\"index_name level0\" >School Name</th>\n",
       "      <th class=\"blank col0\" >&nbsp;</th>\n",
       "      <th class=\"blank col1\" >&nbsp;</th>\n",
       "      <th class=\"blank col2\" >&nbsp;</th>\n",
       "      <th class=\"blank col3\" >&nbsp;</th>\n",
       "    </tr>\n",
       "  </thead>\n",
       "  <tbody>\n",
       "    <tr>\n",
       "      <th id=\"T_ce38e_level0_row0\" class=\"row_heading level0 row0\" >Bailey High School</th>\n",
       "      <td id=\"T_ce38e_row0_col0\" class=\"data row0 col0\" >70.901920</td>\n",
       "      <td id=\"T_ce38e_row0_col1\" class=\"data row0 col1\" >70.848265</td>\n",
       "      <td id=\"T_ce38e_row0_col2\" class=\"data row0 col2\" >70.317346</td>\n",
       "      <td id=\"T_ce38e_row0_col3\" class=\"data row0 col3\" >72.195525</td>\n",
       "    </tr>\n",
       "    <tr>\n",
       "      <th id=\"T_ce38e_level0_row1\" class=\"row_heading level0 row1\" >Cabrera High School</th>\n",
       "      <td id=\"T_ce38e_row1_col0\" class=\"data row1 col0\" >71.172348</td>\n",
       "      <td id=\"T_ce38e_row1_col1\" class=\"data row1 col1\" >71.328326</td>\n",
       "      <td id=\"T_ce38e_row1_col2\" class=\"data row1 col2\" >71.201245</td>\n",
       "      <td id=\"T_ce38e_row1_col3\" class=\"data row1 col3\" >71.856021</td>\n",
       "    </tr>\n",
       "    <tr>\n",
       "      <th id=\"T_ce38e_level0_row2\" class=\"row_heading level0 row2\" >Figueroa High School</th>\n",
       "      <td id=\"T_ce38e_row2_col0\" class=\"data row2 col0\" >70.261682</td>\n",
       "      <td id=\"T_ce38e_row2_col1\" class=\"data row2 col1\" >67.677588</td>\n",
       "      <td id=\"T_ce38e_row2_col2\" class=\"data row2 col2\" >69.152327</td>\n",
       "      <td id=\"T_ce38e_row2_col3\" class=\"data row2 col3\" >69.082126</td>\n",
       "    </tr>\n",
       "    <tr>\n",
       "      <th id=\"T_ce38e_level0_row3\" class=\"row_heading level0 row3\" >Ford High School</th>\n",
       "      <td id=\"T_ce38e_row3_col0\" class=\"data row3 col0\" >69.615846</td>\n",
       "      <td id=\"T_ce38e_row3_col1\" class=\"data row3 col1\" >68.988701</td>\n",
       "      <td id=\"T_ce38e_row3_col2\" class=\"data row3 col2\" >70.735964</td>\n",
       "      <td id=\"T_ce38e_row3_col3\" class=\"data row3 col3\" >68.849722</td>\n",
       "    </tr>\n",
       "    <tr>\n",
       "      <th id=\"T_ce38e_level0_row4\" class=\"row_heading level0 row4\" >Griffin High School</th>\n",
       "      <td id=\"T_ce38e_row4_col0\" class=\"data row4 col0\" >72.026895</td>\n",
       "      <td id=\"T_ce38e_row4_col1\" class=\"data row4 col1\" >70.746305</td>\n",
       "      <td id=\"T_ce38e_row4_col2\" class=\"data row4 col2\" >72.385042</td>\n",
       "      <td id=\"T_ce38e_row4_col3\" class=\"data row4 col3\" >69.434932</td>\n",
       "    </tr>\n",
       "    <tr>\n",
       "      <th id=\"T_ce38e_level0_row5\" class=\"row_heading level0 row5\" >Hernandez High School</th>\n",
       "      <td id=\"T_ce38e_row5_col0\" class=\"data row5 col0\" >68.477569</td>\n",
       "      <td id=\"T_ce38e_row5_col1\" class=\"data row5 col1\" >70.621842</td>\n",
       "      <td id=\"T_ce38e_row5_col2\" class=\"data row5 col2\" >68.418199</td>\n",
       "      <td id=\"T_ce38e_row5_col3\" class=\"data row5 col3\" >69.244136</td>\n",
       "    </tr>\n",
       "    <tr>\n",
       "      <th id=\"T_ce38e_level0_row6\" class=\"row_heading level0 row6\" >Holden High School</th>\n",
       "      <td id=\"T_ce38e_row6_col0\" class=\"data row6 col0\" >71.598425</td>\n",
       "      <td id=\"T_ce38e_row6_col1\" class=\"data row6 col1\" >71.096491</td>\n",
       "      <td id=\"T_ce38e_row6_col2\" class=\"data row6 col2\" >73.310680</td>\n",
       "      <td id=\"T_ce38e_row6_col3\" class=\"data row6 col3\" >70.481928</td>\n",
       "    </tr>\n",
       "    <tr>\n",
       "      <th id=\"T_ce38e_level0_row7\" class=\"row_heading level0 row7\" >Huang High School</th>\n",
       "      <td id=\"T_ce38e_row7_col0\" class=\"data row7 col0\" >68.670616</td>\n",
       "      <td id=\"T_ce38e_row7_col1\" class=\"data row7 col1\" >69.516297</td>\n",
       "      <td id=\"T_ce38e_row7_col2\" class=\"data row7 col2\" >68.740638</td>\n",
       "      <td id=\"T_ce38e_row7_col3\" class=\"data row7 col3\" >68.671795</td>\n",
       "    </tr>\n",
       "    <tr>\n",
       "      <th id=\"T_ce38e_level0_row8\" class=\"row_heading level0 row8\" >Johnson High School</th>\n",
       "      <td id=\"T_ce38e_row8_col0\" class=\"data row8 col0\" >68.719286</td>\n",
       "      <td id=\"T_ce38e_row8_col1\" class=\"data row8 col1\" >69.295029</td>\n",
       "      <td id=\"T_ce38e_row8_col2\" class=\"data row8 col2\" >69.969115</td>\n",
       "      <td id=\"T_ce38e_row8_col3\" class=\"data row8 col3\" >67.992521</td>\n",
       "    </tr>\n",
       "    <tr>\n",
       "      <th id=\"T_ce38e_level0_row9\" class=\"row_heading level0 row9\" >Pena High School</th>\n",
       "      <td id=\"T_ce38e_row9_col0\" class=\"data row9 col0\" >70.949091</td>\n",
       "      <td id=\"T_ce38e_row9_col1\" class=\"data row9 col1\" >72.324000</td>\n",
       "      <td id=\"T_ce38e_row9_col2\" class=\"data row9 col2\" >71.703125</td>\n",
       "      <td id=\"T_ce38e_row9_col3\" class=\"data row9 col3\" >71.513812</td>\n",
       "    </tr>\n",
       "    <tr>\n",
       "      <th id=\"T_ce38e_level0_row10\" class=\"row_heading level0 row10\" >Rodriguez High School</th>\n",
       "      <td id=\"T_ce38e_row10_col0\" class=\"data row10 col0\" >70.902921</td>\n",
       "      <td id=\"T_ce38e_row10_col1\" class=\"data row10 col1\" >70.137500</td>\n",
       "      <td id=\"T_ce38e_row10_col2\" class=\"data row10 col2\" >71.424453</td>\n",
       "      <td id=\"T_ce38e_row10_col3\" class=\"data row10 col3\" >71.414449</td>\n",
       "    </tr>\n",
       "    <tr>\n",
       "      <th id=\"T_ce38e_level0_row11\" class=\"row_heading level0 row11\" >Shelton High School</th>\n",
       "      <td id=\"T_ce38e_row11_col0\" class=\"data row11 col0\" >70.715094</td>\n",
       "      <td id=\"T_ce38e_row11_col1\" class=\"data row11 col1\" >69.879464</td>\n",
       "      <td id=\"T_ce38e_row11_col2\" class=\"data row11 col2\" >71.150485</td>\n",
       "      <td id=\"T_ce38e_row11_col3\" class=\"data row11 col3\" >69.070081</td>\n",
       "    </tr>\n",
       "    <tr>\n",
       "      <th id=\"T_ce38e_level0_row12\" class=\"row_heading level0 row12\" >Thomas High School</th>\n",
       "      <td id=\"T_ce38e_row12_col0\" class=\"data row12 col0\" >69.672451</td>\n",
       "      <td id=\"T_ce38e_row12_col1\" class=\"data row12 col1\" >69.741093</td>\n",
       "      <td id=\"T_ce38e_row12_col2\" class=\"data row12 col2\" >70.749398</td>\n",
       "      <td id=\"T_ce38e_row12_col3\" class=\"data row12 col3\" >68.730769</td>\n",
       "    </tr>\n",
       "    <tr>\n",
       "      <th id=\"T_ce38e_level0_row13\" class=\"row_heading level0 row13\" >Wilson High School</th>\n",
       "      <td id=\"T_ce38e_row13_col0\" class=\"data row13 col0\" >68.683043</td>\n",
       "      <td id=\"T_ce38e_row13_col1\" class=\"data row13 col1\" >68.412541</td>\n",
       "      <td id=\"T_ce38e_row13_col2\" class=\"data row13 col2\" >68.796327</td>\n",
       "      <td id=\"T_ce38e_row13_col3\" class=\"data row13 col3\" >69.888143</td>\n",
       "    </tr>\n",
       "    <tr>\n",
       "      <th id=\"T_ce38e_level0_row14\" class=\"row_heading level0 row14\" >Wright High School</th>\n",
       "      <td id=\"T_ce38e_row14_col0\" class=\"data row14 col0\" >71.823529</td>\n",
       "      <td id=\"T_ce38e_row14_col1\" class=\"data row14 col1\" >71.386831</td>\n",
       "      <td id=\"T_ce38e_row14_col2\" class=\"data row14 col2\" >70.475862</td>\n",
       "      <td id=\"T_ce38e_row14_col3\" class=\"data row14 col3\" >69.821138</td>\n",
       "    </tr>\n",
       "  </tbody>\n",
       "</table>\n"
      ],
      "text/plain": [
       "<pandas.io.formats.style.Styler at 0x1f034ebd1f0>"
      ]
     },
     "execution_count": 193,
     "metadata": {},
     "output_type": "execute_result"
    }
   ],
   "source": [
    "# Year average reading scores for each school\n",
    "yr9_reading = student_data.loc[student_data['year'] == 9].groupby('school_name')[\"reading_score\"].mean()\n",
    "yr10_reading = student_data.loc[student_data['year'] == 10].groupby('school_name')[\"reading_score\"].mean()\n",
    "yr11_reading = student_data.loc[student_data['year'] == 11].groupby('school_name')[\"reading_score\"].mean()\n",
    "yr12_reading = student_data.loc[student_data['year'] == 12].groupby('school_name')[\"reading_score\"].mean()\n",
    "\n",
    "# Merge the reading score averages by school and year\n",
    "reading_scores = pd.DataFrame({\n",
    "        \"Year 9\": yr9_reading,\n",
    "        \"Year 10\": yr10_reading,\n",
    "        \"Year11\": yr11_reading,\n",
    "        \"Year 12\": yr12_reading\n",
    "})\n",
    "reading_scores = reading_scores[[\"Year 9\", \"Year 10\", \"Year11\", \"Year 12\"]]\n",
    "reading_scores.index.name = \"School Name\"\n",
    "\n",
    "# Optional: give the displayed data cleaner formatting\n",
    "reading_scores.style.format({\"Year 9\": '{:.6f}', \n",
    "                             \"Year 10\": '{:.6f}', \n",
    "                             \"Year11\": \"{:.6f}\", \n",
    "                             \"Year 12\": \"{:.6f}\"})"
   ]
  },
  {
   "cell_type": "markdown",
   "metadata": {},
   "source": [
    "## Scores by School Spending"
   ]
  },
  {
   "cell_type": "markdown",
   "metadata": {},
   "source": [
    "* Create a table that breaks down school performances based on average Spending Ranges (Per Student). Use 4 reasonable bins to group school spending. Include in the table each of the following:\n",
    "  * Average Maths Score\n",
    "  * Average Reading Score\n",
    "  * % Passing Maths\n",
    "  * % Passing Reading\n",
    "  * Overall Passing Rate (Average of the above two)"
   ]
  },
  {
   "cell_type": "code",
   "execution_count": 197,
   "metadata": {},
   "outputs": [],
   "source": [
    "# Use the code provided below to create four bins with reasonable cutoff values to group school spending.\n",
    "spending_bins = [0, 585, 630, 645, 680]\n",
    "labels = [\"<$585\", \"$585-630\", \"$630-645\", \"$645-680\"]\n",
    "\n",
    "\n",
    "school_data_complete['spending_bins'] = pd.cut(school_data_complete['budget']/school_data_complete['size'], bins, labels = group_name)\n",
    "\n",
    "#group by spending\n",
    "by_spending = school_data_complete.groupby('spending_bins')\n",
    "\n",
    "\n",
    "avg_math = by_spending['math_score'].mean()\n",
    "\n",
    "avg_read = by_spending['reading_score'].mean()\n",
    "pass_math = school_data_complete[school_data_complete['math_score'] >= 70].groupby('spending_bins')['Student ID'].count()/by_spending['Student ID'].count()*100\n",
    "pass_read = school_data_complete[school_data_complete['reading_score'] >= 70].groupby('spending_bins')['Student ID'].count()/by_spending['Student ID'].count()*100\n",
    "overall = school_data_complete[(school_data_complete['reading_score'] >= 70) & (school_data_complete['math_score'] >= 70)].groupby('spending_bins')['Student ID'].count()/by_spending['Student ID'].count()*100\n",
    "    "
   ]
  },
  {
   "cell_type": "code",
   "execution_count": 131,
   "metadata": {},
   "outputs": [],
   "source": [
    "# Create dataframe            \n",
    "scores_by_spend = pd.DataFrame({\n",
    "    \"Average Maths Score\": average_maths_score,\n",
    "    \"Average Reading Score\": average_reading_score,\n",
    "    \"% Passing Maths\": pass_maths_percent,\n",
    "    \"% Passing Reading\": pass_read_percent,\n",
    "    \"% Overall Passing\": overall_pass\n",
    "            \n",
    "})\n",
    "# scores_by_spend   "
   ]
  },
  {
   "cell_type": "code",
   "execution_count": 132,
   "metadata": {},
   "outputs": [
    {
     "data": {
      "text/html": [
       "<style type=\"text/css\">\n",
       "</style>\n",
       "<table id=\"T_6f594\">\n",
       "  <thead>\n",
       "    <tr>\n",
       "      <th class=\"blank level0\" >&nbsp;</th>\n",
       "      <th id=\"T_6f594_level0_col0\" class=\"col_heading level0 col0\" >Average Maths Score</th>\n",
       "      <th id=\"T_6f594_level0_col1\" class=\"col_heading level0 col1\" >Average Reading Score</th>\n",
       "      <th id=\"T_6f594_level0_col2\" class=\"col_heading level0 col2\" >% Passing Maths</th>\n",
       "      <th id=\"T_6f594_level0_col3\" class=\"col_heading level0 col3\" >% Passing Reading</th>\n",
       "      <th id=\"T_6f594_level0_col4\" class=\"col_heading level0 col4\" >% Overall Passing</th>\n",
       "    </tr>\n",
       "    <tr>\n",
       "      <th class=\"index_name level0\" >Spending Ranges (Per Student)</th>\n",
       "      <th class=\"blank col0\" >&nbsp;</th>\n",
       "      <th class=\"blank col1\" >&nbsp;</th>\n",
       "      <th class=\"blank col2\" >&nbsp;</th>\n",
       "      <th class=\"blank col3\" >&nbsp;</th>\n",
       "      <th class=\"blank col4\" >&nbsp;</th>\n",
       "    </tr>\n",
       "  </thead>\n",
       "  <tbody>\n",
       "    <tr>\n",
       "      <th id=\"T_6f594_level0_row0\" class=\"row_heading level0 row0\" >Small (<1000)</th>\n",
       "      <td id=\"T_6f594_row0_col0\" class=\"data row0 col0\" >70.34</td>\n",
       "      <td id=\"T_6f594_row0_col1\" class=\"data row0 col1\" >69.98</td>\n",
       "      <td id=\"T_6f594_row0_col2\" class=\"data row0 col2\" >86.08</td>\n",
       "      <td id=\"T_6f594_row0_col3\" class=\"data row0 col3\" >84.43</td>\n",
       "      <td id=\"T_6f594_row0_col4\" class=\"data row0 col4\" >72.81</td>\n",
       "    </tr>\n",
       "    <tr>\n",
       "      <th id=\"T_6f594_level0_row1\" class=\"row_heading level0 row1\" >Medium (1000-2000)</th>\n",
       "      <td id=\"T_6f594_row1_col0\" class=\"data row1 col0\" >nan</td>\n",
       "      <td id=\"T_6f594_row1_col1\" class=\"data row1 col1\" >nan</td>\n",
       "      <td id=\"T_6f594_row1_col2\" class=\"data row1 col2\" >nan</td>\n",
       "      <td id=\"T_6f594_row1_col3\" class=\"data row1 col3\" >nan</td>\n",
       "      <td id=\"T_6f594_row1_col4\" class=\"data row1 col4\" >nan</td>\n",
       "    </tr>\n",
       "    <tr>\n",
       "      <th id=\"T_6f594_level0_row2\" class=\"row_heading level0 row2\" >Large (2000-5000)</th>\n",
       "      <td id=\"T_6f594_row2_col0\" class=\"data row2 col0\" >nan</td>\n",
       "      <td id=\"T_6f594_row2_col1\" class=\"data row2 col1\" >nan</td>\n",
       "      <td id=\"T_6f594_row2_col2\" class=\"data row2 col2\" >nan</td>\n",
       "      <td id=\"T_6f594_row2_col3\" class=\"data row2 col3\" >nan</td>\n",
       "      <td id=\"T_6f594_row2_col4\" class=\"data row2 col4\" >nan</td>\n",
       "    </tr>\n",
       "  </tbody>\n",
       "</table>\n"
      ],
      "text/plain": [
       "<pandas.io.formats.style.Styler at 0x1f03cf28640>"
      ]
     },
     "execution_count": 132,
     "metadata": {},
     "output_type": "execute_result"
    }
   ],
   "source": [
    "scores_by_spend = scores_by_spend[[\n",
    "    \"Average Maths Score\",\n",
    "    \"Average Reading Score\",\n",
    "    \"% Passing Maths\",\n",
    "    \"% Passing Reading\",\n",
    "    \"% Overall Passing\"\n",
    "]]\n",
    "\n",
    "scores_by_spend.index.name = \"Spending Ranges (Per Student)\"\n",
    "\n",
    "\n",
    "#formating\n",
    "scores_by_spend.style.format({'Average Maths Score': '{:.2f}', \n",
    "                              'Average Reading Score': '{:.2f}', \n",
    "                              '% Passing Maths': '{:.2f}', \n",
    "                              '% Passing Reading':'{:.2f}', \n",
    "                              '% Overall Passing': '{:.2f}'})"
   ]
  },
  {
   "cell_type": "markdown",
   "metadata": {},
   "source": [
    "## Scores by School Size"
   ]
  },
  {
   "cell_type": "markdown",
   "metadata": {},
   "source": [
    "* Perform the same operations as above, based on school size."
   ]
  },
  {
   "cell_type": "code",
   "execution_count": 100,
   "metadata": {
    "scrolled": true
   },
   "outputs": [],
   "source": [
    "# create size bins\n",
    "bins = [0, 1000, 2000,5000]\n",
    "group_name = [\"Small (<1000)\", \"Medium (1000-2000)\" , \"Large (2000-5000)\"]\n",
    "school_data_complete['size_bins'] = pd.cut(school_data_complete['size'], bins, labels = group_name)"
   ]
  },
  {
   "cell_type": "code",
   "execution_count": 102,
   "metadata": {},
   "outputs": [],
   "source": [
    "\n",
    "by_size = school_data_complete.groupby('size_bins')\n",
    "\n",
    "average_maths_score = by_size['maths_score'].mean()\n",
    "average_reading_score = by_size['maths_score'].mean()\n",
    "pass_maths_percent = school_data_complete[school_data_complete['maths_score'] >= 50].groupby('size_bins')['Student ID'].count()/by_size['Student ID'].count()*100\n",
    "pass_read_percent = school_data_complete[school_data_complete['reading_score'] >= 50].groupby('size_bins')['Student ID'].count()/by_size['Student ID'].count()*100\n",
    "overall_pass = school_data_complete[(school_data_complete['reading_score'] >= 50) & (school_data_complete['maths_score'] >= 50)].groupby('size_bins')['Student ID'].count()/by_size['Student ID'].count()*100\n"
   ]
  },
  {
   "cell_type": "code",
   "execution_count": 109,
   "metadata": {},
   "outputs": [
    {
     "data": {
      "text/html": [
       "<style type=\"text/css\">\n",
       "</style>\n",
       "<table id=\"T_2650d\">\n",
       "  <thead>\n",
       "    <tr>\n",
       "      <th class=\"blank level0\" >&nbsp;</th>\n",
       "      <th id=\"T_2650d_level0_col0\" class=\"col_heading level0 col0\" >Average Maths Score</th>\n",
       "      <th id=\"T_2650d_level0_col1\" class=\"col_heading level0 col1\" >Average Reading Score</th>\n",
       "      <th id=\"T_2650d_level0_col2\" class=\"col_heading level0 col2\" >% Passing Maths</th>\n",
       "      <th id=\"T_2650d_level0_col3\" class=\"col_heading level0 col3\" >% Passing Reading</th>\n",
       "      <th id=\"T_2650d_level0_col4\" class=\"col_heading level0 col4\" >% Overall Passing</th>\n",
       "    </tr>\n",
       "    <tr>\n",
       "      <th class=\"index_name level0\" >School Size</th>\n",
       "      <th class=\"blank col0\" >&nbsp;</th>\n",
       "      <th class=\"blank col1\" >&nbsp;</th>\n",
       "      <th class=\"blank col2\" >&nbsp;</th>\n",
       "      <th class=\"blank col3\" >&nbsp;</th>\n",
       "      <th class=\"blank col4\" >&nbsp;</th>\n",
       "    </tr>\n",
       "  </thead>\n",
       "  <tbody>\n",
       "    <tr>\n",
       "      <th id=\"T_2650d_level0_row0\" class=\"row_heading level0 row0\" >Small (<1000)</th>\n",
       "      <td id=\"T_2650d_row0_col0\" class=\"data row0 col0\" >72.240461</td>\n",
       "      <td id=\"T_2650d_row0_col1\" class=\"data row0 col1\" >72.240461</td>\n",
       "      <td id=\"T_2650d_row0_col2\" class=\"data row0 col2\" >91.144708</td>\n",
       "      <td id=\"T_2650d_row0_col3\" class=\"data row0 col3\" >87.185025</td>\n",
       "      <td id=\"T_2650d_row0_col4\" class=\"data row0 col4\" >79.121670</td>\n",
       "    </tr>\n",
       "    <tr>\n",
       "      <th id=\"T_2650d_level0_row1\" class=\"row_heading level0 row1\" >Medium (1000-2000)</th>\n",
       "      <td id=\"T_2650d_row1_col0\" class=\"data row1 col0\" >71.441798</td>\n",
       "      <td id=\"T_2650d_row1_col1\" class=\"data row1 col1\" >71.441798</td>\n",
       "      <td id=\"T_2650d_row1_col2\" class=\"data row1 col2\" >89.908472</td>\n",
       "      <td id=\"T_2650d_row1_col3\" class=\"data row1 col3\" >86.740202</td>\n",
       "      <td id=\"T_2650d_row1_col4\" class=\"data row1 col4\" >78.091997</td>\n",
       "    </tr>\n",
       "    <tr>\n",
       "      <th id=\"T_2650d_level0_row2\" class=\"row_heading level0 row2\" >Large (2000-5000)</th>\n",
       "      <td id=\"T_2650d_row2_col0\" class=\"data row2 col0\" >69.926450</td>\n",
       "      <td id=\"T_2650d_row2_col1\" class=\"data row2 col1\" >69.926450</td>\n",
       "      <td id=\"T_2650d_row2_col2\" class=\"data row2 col2\" >84.722649</td>\n",
       "      <td id=\"T_2650d_row2_col3\" class=\"data row2 col3\" >83.622133</td>\n",
       "      <td id=\"T_2650d_row2_col4\" class=\"data row2 col4\" >70.969616</td>\n",
       "    </tr>\n",
       "  </tbody>\n",
       "</table>\n"
      ],
      "text/plain": [
       "<pandas.io.formats.style.Styler at 0x1f03cd4ee80>"
      ]
     },
     "execution_count": 109,
     "metadata": {},
     "output_type": "execute_result"
    }
   ],
   "source": [
    "scores_by_size = pd.DataFrame({\n",
    "    \"Average Maths Score\": average_maths_score,\n",
    "    \"Average Reading Score\": average_reading_score,\n",
    "    '% Passing Maths': pass_maths_percent,\n",
    "    '% Passing Reading': pass_read_percent,\n",
    "    '% Overall Passing': overall\n",
    "})\n",
    "\n",
    "scores_by_size = scores_by_size[[\n",
    "    \"Average Maths Score\",\n",
    "    \"Average Reading Score\",\n",
    "    '% Passing Maths',\n",
    "    '% Passing Reading',\n",
    "    '% Overall Passing'\n",
    "]]\n",
    "\n",
    "scores_by_size.index.name = \"School Size\"\n",
    "scores_by_size = scores_by_size.reindex(group_name)\n",
    "\n",
    "\n",
    "scores_by_size.style.format({'Average Maths Score': '{:.6f}', \n",
    "                              'Average Reading Score': '{:.6f}', \n",
    "                              '% Passing Maths': '{:.6f}', \n",
    "                              '% Passing Reading':'{:.6f}', \n",
    "                              '% Overall Passing': '{:.6f}'})"
   ]
  },
  {
   "cell_type": "markdown",
   "metadata": {},
   "source": [
    "## Scores by School Type"
   ]
  },
  {
   "cell_type": "markdown",
   "metadata": {},
   "source": [
    "* Perform the same operations as above, based on school type"
   ]
  },
  {
   "cell_type": "code",
   "execution_count": 24,
   "metadata": {},
   "outputs": [
    {
     "data": {
      "text/html": [
       "<div>\n",
       "<style scoped>\n",
       "    .dataframe tbody tr th:only-of-type {\n",
       "        vertical-align: middle;\n",
       "    }\n",
       "\n",
       "    .dataframe tbody tr th {\n",
       "        vertical-align: top;\n",
       "    }\n",
       "\n",
       "    .dataframe thead th {\n",
       "        text-align: right;\n",
       "    }\n",
       "</style>\n",
       "<table border=\"1\" class=\"dataframe\">\n",
       "  <thead>\n",
       "    <tr style=\"text-align: right;\">\n",
       "      <th></th>\n",
       "      <th>Average Maths Score</th>\n",
       "      <th>Average Reading Score</th>\n",
       "      <th>% Passing Maths</th>\n",
       "      <th>% Passing Reading</th>\n",
       "      <th>% Overall Passing</th>\n",
       "    </tr>\n",
       "    <tr>\n",
       "      <th>School Type</th>\n",
       "      <th></th>\n",
       "      <th></th>\n",
       "      <th></th>\n",
       "      <th></th>\n",
       "      <th></th>\n",
       "    </tr>\n",
       "  </thead>\n",
       "  <tbody>\n",
       "    <tr>\n",
       "      <th>Government</th>\n",
       "      <td>69.834806</td>\n",
       "      <td>69.675929</td>\n",
       "      <td>84.462375</td>\n",
       "      <td>83.587562</td>\n",
       "      <td>70.698993</td>\n",
       "    </tr>\n",
       "    <tr>\n",
       "      <th>Independent</th>\n",
       "      <td>71.368822</td>\n",
       "      <td>70.718933</td>\n",
       "      <td>89.204043</td>\n",
       "      <td>86.247789</td>\n",
       "      <td>76.973340</td>\n",
       "    </tr>\n",
       "  </tbody>\n",
       "</table>\n",
       "</div>"
      ],
      "text/plain": [
       "             Average Maths Score  Average Reading Score  % Passing Maths  \\\n",
       "School Type                                                                \n",
       "Government             69.834806              69.675929        84.462375   \n",
       "Independent            71.368822              70.718933        89.204043   \n",
       "\n",
       "             % Passing Reading  % Overall Passing  \n",
       "School Type                                        \n",
       "Government           83.587562          70.698993  \n",
       "Independent          86.247789          76.973340  "
      ]
     },
     "execution_count": 24,
     "metadata": {},
     "output_type": "execute_result"
    }
   ],
   "source": []
  },
  {
   "cell_type": "code",
   "execution_count": null,
   "metadata": {},
   "outputs": [],
   "source": []
  }
 ],
 "metadata": {
  "anaconda-cloud": {},
  "kernel_info": {
   "name": "python3"
  },
  "kernelspec": {
   "display_name": "Python 3 (ipykernel)",
   "language": "python",
   "name": "python3"
  },
  "language_info": {
   "codemirror_mode": {
    "name": "ipython",
    "version": 3
   },
   "file_extension": ".py",
   "mimetype": "text/x-python",
   "name": "python",
   "nbconvert_exporter": "python",
   "pygments_lexer": "ipython3",
   "version": "3.9.12"
  },
  "latex_envs": {
   "LaTeX_envs_menu_present": true,
   "autoclose": false,
   "autocomplete": true,
   "bibliofile": "biblio.bib",
   "cite_by": "apalike",
   "current_citInitial": 1,
   "eqLabelWithNumbers": true,
   "eqNumInitial": 1,
   "hotkeys": {
    "equation": "Ctrl-E",
    "itemize": "Ctrl-I"
   },
   "labels_anchors": false,
   "latex_user_defs": false,
   "report_style_numbering": false,
   "user_envs_cfg": false
  },
  "nteract": {
   "version": "0.8.4"
  }
 },
 "nbformat": 4,
 "nbformat_minor": 1
}
